{
 "cells": [
  {
   "cell_type": "markdown",
   "id": "I1-Mrsi3iORa",
   "metadata": {
    "id": "I1-Mrsi3iORa"
   },
   "source": [
    "# Install required libraries."
   ]
  },
  {
   "cell_type": "raw",
   "id": "43e351e6-38ce-471b-a30c-b708bcd171c4",
   "metadata": {
    "colab": {
     "base_uri": "https://localhost:8080/"
    },
    "id": "KatScJryiOho",
    "outputId": "bd61f380-f969-404e-ad17-33e00780cebb"
   },
   "source": [
    "!pip install torchvision\n",
    "!pip install torch\n",
    "!pip install torchattacks"
   ]
  },
  {
   "cell_type": "code",
   "execution_count": 1,
   "id": "eH7DtyR_ZPZk",
   "metadata": {
    "id": "eH7DtyR_ZPZk"
   },
   "outputs": [],
   "source": [
    "# Imports\n",
    "import random\n",
    "import torch\n",
    "import torchvision\n",
    "import torchvision.transforms as transforms\n",
    "import numpy as np\n",
    "import matplotlib.pyplot as plt\n",
    "import torchattacks\n",
    "from torch.utils.data import DataLoader, Subset, TensorDataset\n",
    "import torch.nn as nn"
   ]
  },
  {
   "cell_type": "markdown",
   "id": "wrFlplXmmkas",
   "metadata": {
    "id": "wrFlplXmmkas"
   },
   "source": [
    "# Enable GPU"
   ]
  },
  {
   "cell_type": "code",
   "execution_count": 2,
   "id": "MnXgzvJbmhbS",
   "metadata": {
    "colab": {
     "base_uri": "https://localhost:8080/"
    },
    "id": "MnXgzvJbmhbS",
    "outputId": "24a3ed61-a76f-4a2c-ed39-0d12e0efbc3f"
   },
   "outputs": [
    {
     "name": "stdout",
     "output_type": "stream",
     "text": [
      "CUDA available! Training on GPU.\n"
     ]
    }
   ],
   "source": [
    "# Check if CUDA is available\n",
    "if torch.cuda.is_available():\n",
    "    device = torch.device('cuda')\n",
    "    print(\"CUDA available! Training on GPU.\", flush=True)\n",
    "else:\n",
    "    device = torch.device('cpu')\n",
    "    print(\"CUDA NOT available... Training on CPU.\", flush=True)"
   ]
  },
  {
   "cell_type": "markdown",
   "id": "420a2d9a-5ac5-4785-8d17-279ecc290ce1",
   "metadata": {
    "id": "420a2d9a-5ac5-4785-8d17-279ecc290ce1"
   },
   "source": [
    "# Small CNN Architecture\n",
    "\n",
    "This is an example of a small convolutional neural network that should take about a minute/epoch to train on FashionMNIST. The model has two convolutional layers and three fully connected layers.\n",
    "\n",
    "To instantiate a SmallCNN model, call the SmallCNN function with parenthesis `model = SmallCNN()`. Once the model is instantiated, you can enable gradient computations by calling `model.train()` before a training loop. To disable gradient computations (e.g. when testing or performing inference), call `model.eval()`.\n",
    "\n",
    "Training the model several times may take a while. To circumvent this once a model has been trained for each of the HW problems, use `torch.save(model, <filename>.pth)` and `torch.load(<filename.pth>)`."
   ]
  },
  {
   "cell_type": "code",
   "execution_count": 3,
   "id": "f17417a8-aeed-48d7-90b2-b48132037549",
   "metadata": {
    "id": "f17417a8-aeed-48d7-90b2-b48132037549"
   },
   "outputs": [],
   "source": [
    "class SmallCNN(nn.Module):\n",
    "\n",
    "    def __init__(self):\n",
    "        super(SmallCNN, self).__init__()\n",
    "\n",
    "        self.layer1 = nn.Sequential(\n",
    "            nn.Conv2d(in_channels=1, out_channels=32, kernel_size=3, padding=1),\n",
    "            nn.BatchNorm2d(32),\n",
    "            nn.ReLU(),\n",
    "            nn.MaxPool2d(kernel_size=2, stride=2)\n",
    "        )\n",
    "\n",
    "        self.layer2 = nn.Sequential(\n",
    "            nn.Conv2d(in_channels=32, out_channels=64, kernel_size=3),\n",
    "            nn.BatchNorm2d(64),\n",
    "            nn.ReLU(),\n",
    "            nn.MaxPool2d(2)\n",
    "        )\n",
    "        self.fc1 = nn.Linear(in_features=64*6*6, out_features=600)\n",
    "        self.drop = nn.Dropout(0.25)\n",
    "        self.fc2 = nn.Linear(in_features=600, out_features=120)\n",
    "        self.fc3 = nn.Linear(in_features=120, out_features=10)\n",
    "\n",
    "    def forward(self, x):\n",
    "        out = self.layer1(x)\n",
    "        out = self.layer2(out)\n",
    "        out = out.view(out.size(0), -1)\n",
    "        out = self.fc1(out)\n",
    "        out = nn.functional.relu(out)\n",
    "        out = self.drop(out)\n",
    "        out = self.fc2(out)\n",
    "        out = nn.functional.relu(out)\n",
    "        out = self.fc3(out)\n",
    "        return out"
   ]
  },
  {
   "cell_type": "markdown",
   "id": "662e2937-ceb6-4add-ad99-364d2c7ff435",
   "metadata": {
    "id": "662e2937-ceb6-4add-ad99-364d2c7ff435"
   },
   "source": [
    "--------\n",
    "# Loading Fashion-MNIST using PyTorch"
   ]
  },
  {
   "cell_type": "code",
   "execution_count": 4,
   "id": "c069a986-adca-44b7-b5e0-7022022c96c0",
   "metadata": {
    "id": "c069a986-adca-44b7-b5e0-7022022c96c0"
   },
   "outputs": [],
   "source": [
    "from torchvision.datasets import FashionMNIST\n",
    "import torchvision.transforms as T\n",
    "\n",
    "# Set a constant seed for reproducibility\n",
    "torch.manual_seed(42)\n",
    "if torch.cuda.is_available():\n",
    "    torch.cuda.manual_seed(42)\n",
    "\n",
    "\n",
    "def load_fmnist_torch(root=\"./data\", transform=None, download=True):\n",
    "\n",
    "    if transform == None:\n",
    "        transform = transforms.Compose([\n",
    "            transforms.Grayscale(num_output_channels=1),\n",
    "            transforms.ToTensor(),\n",
    "        ])\n",
    "    train_set = FashionMNIST(root=root,  transform=transform, download=download, train=True)\n",
    "    test_set = FashionMNIST(root=root,  transform=transform, download=download, train=False)\n",
    "\n",
    "    # Each item in this dictionary is a torch Dataset object\n",
    "    # To feed the data into a model, you may have to use a DataLoader\n",
    "    return {\"train\": train_set, \"test\": test_set}"
   ]
  },
  {
   "cell_type": "markdown",
   "id": "FPDN0JRsc4IB",
   "metadata": {
    "id": "FPDN0JRsc4IB"
   },
   "source": [
    "# Problem 1"
   ]
  },
  {
   "cell_type": "code",
   "execution_count": 5,
   "id": "f-9rbSZLIYlO",
   "metadata": {
    "colab": {
     "base_uri": "https://localhost:8080/",
     "height": 443,
     "referenced_widgets": [
      "f4baa13c311b4214b34b6f4b15d11dd8",
      "49556a52cad84377a63c8364ec35e896",
      "cb27086bc9e745588a787ee4077e7f5c",
      "8892b365933e42ce8dbcfb55c65f2a75",
      "efe9a164955047e0b14a1151b97d9957",
      "1bb3e36cb9d44d4a8c978eb1171d8cae",
      "40874e0a78e6486bae1051b04e7ab7bb",
      "9f213b132039451b9509fe2b8d51b659",
      "0ceaac8bff70492caeafb519f4915ef4",
      "24144c2ee1c54f4ea9d689ca653d8888",
      "e7f0ccf56b5e435a81bea9249b526ac4",
      "238a14a20af54699b486a5d9a1fffd92",
      "d72fcad15e644d95888c95965079b1b8",
      "7d8e05cde477453a990b6fa928c3a4e8",
      "c73134a61ac84a9c909f98bb8cc520c7",
      "eab7ac64e066499e80abb950ad93ef6b",
      "4208152d0d1045099d314b18c62190b9",
      "1015b46f8e5148a598ad7888dc2f6ffa",
      "ae3d172991fe4f67bf939931aee25d7c",
      "e66dcec094e34e21a608310c1d1ee371",
      "aa2fb0c6abf949dcae730ac730623650",
      "b2a9e87464854711a7d1e860c66e67b9",
      "5379628689504e699985aea70ec6c387",
      "b04f518269ad407ea0cbb4a35a621589",
      "429fa0a4b19e4a048a96de91c5395575",
      "5cdf3c5d9c19421087b9e9226134b87a",
      "5e0a6fe69ec54405a63bfddf484187cb",
      "c6eddf6f8b4544e6ab87b7166098c7a9",
      "3cd8ec01698449c1816dfb088d06d1fd",
      "218df31737f24831923c2b14835ae63b",
      "be3c5dd26df5488191040cc1849bfc3d",
      "9c029cad15d4403aa75a5cac52545fa2",
      "53e17699bd674e3eaff660a8e434f13a",
      "4877cee7b47f4e57be91efe6bcc603fd",
      "290830cb3c5a4c9498f7cd84056cb1ea",
      "87177d01165f41dca8c6901c88c22893",
      "a62e7f1123004f1a92cd1e027db97a6d",
      "dc0a64431c74427f81ca1c1fba26a9a5",
      "f8d5c48e986d4e5cba0dc882f557db94",
      "c926f3a1c38d4ba98d04ef3d8b2dbe04",
      "de2b0a6c6d2a4e998df24fb522df7980",
      "79ea79ffa70a418ea26d7139c8383205",
      "ef425936b2a147608b97a242df6231e0",
      "0e638726ecc4464c8ccee03615835494"
     ]
    },
    "id": "f-9rbSZLIYlO",
    "outputId": "e738d6aa-d26e-4468-a4e7-051b83638e90"
   },
   "outputs": [],
   "source": [
    "# Load data\n",
    "fmnist_data =  load_fmnist_torch()"
   ]
  },
  {
   "cell_type": "code",
   "execution_count": 6,
   "id": "43b15c8a-d7d6-4d41-a6d8-87239c052b9d",
   "metadata": {},
   "outputs": [],
   "source": [
    "train_loader = DataLoader(dataset=fmnist_data['train'], batch_size=64, shuffle=True)"
   ]
  },
  {
   "cell_type": "code",
   "execution_count": 7,
   "id": "29232f6d-3fea-4ed7-887f-0bd2391ee97a",
   "metadata": {},
   "outputs": [
    {
     "name": "stdout",
     "output_type": "stream",
     "text": [
      "Train Epoch: 0: \n",
      "\n",
      "Train Epoch: 1 [0/60000] Loss: 2.311730\n",
      "Train Epoch: 1 [6400/60000] Loss: 0.446311\n",
      "Train Epoch: 1 [12800/60000] Loss: 0.374006\n",
      "Train Epoch: 1 [19200/60000] Loss: 0.417047\n",
      "Train Epoch: 1 [25600/60000] Loss: 0.241227\n",
      "Train Epoch: 1 [32000/60000] Loss: 0.177923\n",
      "Train Epoch: 1 [38400/60000] Loss: 0.272281\n",
      "Train Epoch: 1 [44800/60000] Loss: 0.373824\n",
      "Train Epoch: 1 [51200/60000] Loss: 0.225643\n",
      "Train Epoch: 1 [57600/60000] Loss: 0.220373\n",
      "\n",
      "\n",
      "\n",
      "Train Epoch: 1: \n",
      "\n",
      "Train Epoch: 2 [0/60000] Loss: 0.252010\n",
      "Train Epoch: 2 [6400/60000] Loss: 0.292230\n",
      "Train Epoch: 2 [12800/60000] Loss: 0.200410\n",
      "Train Epoch: 2 [19200/60000] Loss: 0.191825\n",
      "Train Epoch: 2 [25600/60000] Loss: 0.204994\n",
      "Train Epoch: 2 [32000/60000] Loss: 0.313643\n",
      "Train Epoch: 2 [38400/60000] Loss: 0.270298\n",
      "Train Epoch: 2 [44800/60000] Loss: 0.178784\n",
      "Train Epoch: 2 [51200/60000] Loss: 0.329121\n",
      "Train Epoch: 2 [57600/60000] Loss: 0.353701\n",
      "\n",
      "\n",
      "\n",
      "Train Epoch: 2: \n",
      "\n",
      "Train Epoch: 3 [0/60000] Loss: 0.308724\n",
      "Train Epoch: 3 [6400/60000] Loss: 0.218757\n",
      "Train Epoch: 3 [12800/60000] Loss: 0.325161\n",
      "Train Epoch: 3 [19200/60000] Loss: 0.126811\n",
      "Train Epoch: 3 [25600/60000] Loss: 0.226808\n",
      "Train Epoch: 3 [32000/60000] Loss: 0.269087\n",
      "Train Epoch: 3 [38400/60000] Loss: 0.374600\n",
      "Train Epoch: 3 [44800/60000] Loss: 0.286520\n",
      "Train Epoch: 3 [51200/60000] Loss: 0.226456\n",
      "Train Epoch: 3 [57600/60000] Loss: 0.174166\n",
      "\n",
      "\n",
      "\n",
      "Train Epoch: 3: \n",
      "\n",
      "Train Epoch: 4 [0/60000] Loss: 0.297313\n",
      "Train Epoch: 4 [6400/60000] Loss: 0.133393\n",
      "Train Epoch: 4 [12800/60000] Loss: 0.353469\n",
      "Train Epoch: 4 [19200/60000] Loss: 0.130763\n",
      "Train Epoch: 4 [25600/60000] Loss: 0.156926\n",
      "Train Epoch: 4 [32000/60000] Loss: 0.241491\n",
      "Train Epoch: 4 [38400/60000] Loss: 0.292382\n",
      "Train Epoch: 4 [44800/60000] Loss: 0.134043\n",
      "Train Epoch: 4 [51200/60000] Loss: 0.140146\n",
      "Train Epoch: 4 [57600/60000] Loss: 0.260542\n",
      "\n",
      "\n",
      "\n",
      "Train Epoch: 4: \n",
      "\n",
      "Train Epoch: 5 [0/60000] Loss: 0.165528\n",
      "Train Epoch: 5 [6400/60000] Loss: 0.223036\n",
      "Train Epoch: 5 [12800/60000] Loss: 0.267984\n",
      "Train Epoch: 5 [19200/60000] Loss: 0.172760\n",
      "Train Epoch: 5 [25600/60000] Loss: 0.373196\n",
      "Train Epoch: 5 [32000/60000] Loss: 0.136600\n",
      "Train Epoch: 5 [38400/60000] Loss: 0.195930\n",
      "Train Epoch: 5 [44800/60000] Loss: 0.133924\n",
      "Train Epoch: 5 [51200/60000] Loss: 0.254414\n",
      "Train Epoch: 5 [57600/60000] Loss: 0.133283\n",
      "\n",
      "\n",
      "\n",
      "Train Epoch: 5: \n",
      "\n",
      "Train Epoch: 6 [0/60000] Loss: 0.119896\n",
      "Train Epoch: 6 [6400/60000] Loss: 0.221904\n",
      "Train Epoch: 6 [12800/60000] Loss: 0.262030\n",
      "Train Epoch: 6 [19200/60000] Loss: 0.207310\n",
      "Train Epoch: 6 [25600/60000] Loss: 0.175268\n",
      "Train Epoch: 6 [32000/60000] Loss: 0.187016\n",
      "Train Epoch: 6 [38400/60000] Loss: 0.062856\n",
      "Train Epoch: 6 [44800/60000] Loss: 0.101005\n",
      "Train Epoch: 6 [51200/60000] Loss: 0.181443\n",
      "Train Epoch: 6 [57600/60000] Loss: 0.154155\n",
      "\n",
      "\n",
      "\n",
      "Train Epoch: 6: \n",
      "\n",
      "Train Epoch: 7 [0/60000] Loss: 0.133233\n",
      "Train Epoch: 7 [6400/60000] Loss: 0.160241\n",
      "Train Epoch: 7 [12800/60000] Loss: 0.245711\n",
      "Train Epoch: 7 [19200/60000] Loss: 0.113128\n",
      "Train Epoch: 7 [25600/60000] Loss: 0.106941\n",
      "Train Epoch: 7 [32000/60000] Loss: 0.131115\n",
      "Train Epoch: 7 [38400/60000] Loss: 0.065074\n",
      "Train Epoch: 7 [44800/60000] Loss: 0.257733\n",
      "Train Epoch: 7 [51200/60000] Loss: 0.207242\n",
      "Train Epoch: 7 [57600/60000] Loss: 0.160881\n",
      "\n",
      "\n",
      "\n",
      "Train Epoch: 7: \n",
      "\n",
      "Train Epoch: 8 [0/60000] Loss: 0.075321\n",
      "Train Epoch: 8 [6400/60000] Loss: 0.193526\n",
      "Train Epoch: 8 [12800/60000] Loss: 0.055045\n",
      "Train Epoch: 8 [19200/60000] Loss: 0.260539\n",
      "Train Epoch: 8 [25600/60000] Loss: 0.120241\n",
      "Train Epoch: 8 [32000/60000] Loss: 0.112211\n",
      "Train Epoch: 8 [38400/60000] Loss: 0.155356\n",
      "Train Epoch: 8 [44800/60000] Loss: 0.137880\n",
      "Train Epoch: 8 [51200/60000] Loss: 0.106642\n",
      "Train Epoch: 8 [57600/60000] Loss: 0.171562\n",
      "\n",
      "\n",
      "\n",
      "Train Epoch: 8: \n",
      "\n",
      "Train Epoch: 9 [0/60000] Loss: 0.032836\n",
      "Train Epoch: 9 [6400/60000] Loss: 0.083810\n",
      "Train Epoch: 9 [12800/60000] Loss: 0.123911\n",
      "Train Epoch: 9 [19200/60000] Loss: 0.043829\n",
      "Train Epoch: 9 [25600/60000] Loss: 0.433194\n",
      "Train Epoch: 9 [32000/60000] Loss: 0.106250\n",
      "Train Epoch: 9 [38400/60000] Loss: 0.099768\n",
      "Train Epoch: 9 [44800/60000] Loss: 0.217544\n",
      "Train Epoch: 9 [51200/60000] Loss: 0.112795\n",
      "Train Epoch: 9 [57600/60000] Loss: 0.127952\n",
      "\n",
      "\n",
      "\n",
      "Train Epoch: 9: \n",
      "\n",
      "Train Epoch: 10 [0/60000] Loss: 0.146593\n",
      "Train Epoch: 10 [6400/60000] Loss: 0.125171\n",
      "Train Epoch: 10 [12800/60000] Loss: 0.075008\n",
      "Train Epoch: 10 [19200/60000] Loss: 0.100310\n",
      "Train Epoch: 10 [25600/60000] Loss: 0.091567\n",
      "Train Epoch: 10 [32000/60000] Loss: 0.036722\n",
      "Train Epoch: 10 [38400/60000] Loss: 0.234298\n",
      "Train Epoch: 10 [44800/60000] Loss: 0.176357\n",
      "Train Epoch: 10 [51200/60000] Loss: 0.256069\n",
      "Train Epoch: 10 [57600/60000] Loss: 0.081866\n",
      "\n",
      "\n",
      "\n"
     ]
    }
   ],
   "source": [
    "import torch.optim as optim\n",
    "\n",
    "model = SmallCNN().to(device)\n",
    "\n",
    "criterion = nn.CrossEntropyLoss()\n",
    "optimizer = optim.Adam(model.parameters(), lr=0.001)\n",
    "\n",
    "def train(model, device, train_loader, optimizer, criterion):\n",
    "    model.train()\n",
    "    for epoch in range(10):  # Train for 10 epochs\n",
    "        print(f'Train Epoch: {epoch}:','\\n')\n",
    "        for batch_idx, (data, target) in enumerate(train_loader):\n",
    "            data, target = data.to(device), target.to(device)\n",
    "            optimizer.zero_grad()\n",
    "            output = model(data)\n",
    "            loss = criterion(output, target)\n",
    "            loss.backward()\n",
    "            optimizer.step()\n",
    "            if batch_idx % 100 == 0:\n",
    "                print(f'Train Epoch: {epoch+1} [{batch_idx * len(data)}/{len(train_loader.dataset)}] Loss: {loss.item():.6f}')\n",
    "        print('\\n\\n')\n",
    "\n",
    "train(model, device, train_loader, optimizer, criterion)"
   ]
  },
  {
   "cell_type": "code",
   "execution_count": 8,
   "id": "1041e2a1-4190-42fd-bdb0-960dff8e6e59",
   "metadata": {},
   "outputs": [],
   "source": [
    "torch.save(model.state_dict(), \"smallcnn\")"
   ]
  },
  {
   "cell_type": "code",
   "execution_count": 9,
   "id": "f427b67d-699c-4925-97b6-c1e6329482dc",
   "metadata": {},
   "outputs": [],
   "source": [
    "# Create DataLoader with required batch_size and shuffle=True\n",
    "test_loader = DataLoader(dataset=fmnist_data['test'], batch_size=100, shuffle=True)"
   ]
  },
  {
   "cell_type": "code",
   "execution_count": 10,
   "id": "ac9b740c-3ffa-4fc6-9f31-fbe3c169bde6",
   "metadata": {},
   "outputs": [
    {
     "name": "stdout",
     "output_type": "stream",
     "text": [
      "\n",
      "Test set: Average loss: 0.0025, Accuracy: 9244/10000 (92%)\n",
      "\n"
     ]
    }
   ],
   "source": [
    "def test(model, device, test_loader):\n",
    "    model.eval()\n",
    "    test_loss = 0\n",
    "    correct = 0\n",
    "    with torch.no_grad():\n",
    "        for data, target in test_loader:\n",
    "            data, target = data.to(device), target.to(device)\n",
    "            output = model(data)\n",
    "            test_loss += criterion(output, target).item()  # Sum up batch loss\n",
    "            pred = output.argmax(dim=1)  # Get the index of the max log-probability\n",
    "            correct += pred.eq(target).sum().item()\n",
    "\n",
    "    test_loss /= len(test_loader.dataset)\n",
    "    print(f'\\nTest set: Average loss: {test_loss:.4f}, Accuracy: {correct}/{len(test_loader.dataset)} ({100. * correct / len(test_loader.dataset):.0f}%)\\n')\n",
    "\n",
    "test(model, device, test_loader)"
   ]
  },
  {
   "cell_type": "code",
   "execution_count": 11,
   "id": "27ae181c-cd35-41eb-9522-872e4bfe2864",
   "metadata": {},
   "outputs": [],
   "source": [
    "# Select a batch of images from the test dataset\n",
    "test_subset = Subset(fmnist_data['test'], range(100))  # Select first 100 images\n",
    "test_loader_subset = DataLoader(test_subset, batch_size=1, shuffle=False)"
   ]
  },
  {
   "cell_type": "code",
   "execution_count": 12,
   "id": "ZOqKHNVlTNgA",
   "metadata": {
    "id": "ZOqKHNVlTNgA"
   },
   "outputs": [
    {
     "name": "stdout",
     "output_type": "stream",
     "text": [
      "Average L2 norm of perturbations: 1.1608293455592789\n"
     ]
    }
   ],
   "source": [
    "# Set model to evaluation mode\n",
    "model.eval()\n",
    "\n",
    "atk = torchattacks.CW(model, c=500, steps=50, lr=0.1)\n",
    "\n",
    "perturbations = []\n",
    "successes = []\n",
    "\n",
    "for data, target in test_loader_subset:\n",
    "    data, target = data.to(device), target.to(device)\n",
    "    adv_data = atk(data, target)\n",
    "    \n",
    "    # Calculate L2 norm of perturbation for each image\n",
    "    perturbation = adv_data - data\n",
    "    epsilon = torch.norm(perturbation.view(perturbation.size(0), -1), p=2).item()\n",
    "    perturbations.append(epsilon)\n",
    "\n",
    "    # Check if attack was successful (i.e., misclassification occurs)\n",
    "    adv_output = model(adv_data).argmax(dim=1)\n",
    "    success = (adv_output != target).cpu().numpy()\n",
    "    successes.append(success[0])\n",
    "\n",
    "# Print or analyze perturbations\n",
    "print(\"Average L2 norm of perturbations:\", np.mean(perturbations))"
   ]
  },
  {
   "cell_type": "code",
   "execution_count": 13,
   "id": "68a8de62-2f1f-4fff-b1d2-74f222c70337",
   "metadata": {},
   "outputs": [
    {
     "name": "stderr",
     "output_type": "stream",
     "text": [
      "<>:8: SyntaxWarning: invalid escape sequence '\\e'\n",
      "<>:10: SyntaxWarning: invalid escape sequence '\\e'\n",
      "<>:8: SyntaxWarning: invalid escape sequence '\\e'\n",
      "<>:10: SyntaxWarning: invalid escape sequence '\\e'\n",
      "/tmp/ipykernel_43406/1982224746.py:8: SyntaxWarning: invalid escape sequence '\\e'\n",
      "  plt.xlabel('Perturbation $\\epsilon$ (L2 norm)')\n",
      "/tmp/ipykernel_43406/1982224746.py:10: SyntaxWarning: invalid escape sequence '\\e'\n",
      "  plt.title('Adversarial Success Rate vs Perturbation $\\epsilon$')\n"
     ]
    },
    {
     "data": {
      "image/png": "[encoded data removed]",
      "text/plain": [
       "<Figure size 1000x600 with 1 Axes>"
      ]
     },
     "metadata": {},
     "output_type": "display_data"
    }
   ],
   "source": [
    "# Calculate success rate for each unique epsilon value\n",
    "epsilons_unique = np.unique(perturbations)\n",
    "success_rates = [np.mean([successes[i] for i in range(len(successes)) if perturbations[i] == eps]) for eps in epsilons_unique]\n",
    "\n",
    "# Plotting\n",
    "plt.figure(figsize=(10, 6))\n",
    "plt.plot(epsilons_unique, success_rates, marker='o')\n",
    "plt.xlabel('Perturbation $\\epsilon$ (L2 norm)')\n",
    "plt.ylabel('Adversarial Success Rate')\n",
    "plt.title('Adversarial Success Rate vs Perturbation $\\epsilon$')\n",
    "plt.grid(True)\n",
    "plt.show()"
   ]
  },
  {
   "cell_type": "code",
   "execution_count": 14,
   "id": "40a9e590-8f85-4a34-95b0-c3493affdb22",
   "metadata": {},
   "outputs": [
    {
     "data": {
      "image/png": "[encoded data removed]",
      "text/plain": [
       "<Figure size 640x480 with 1 Axes>"
      ]
     },
     "metadata": {},
     "output_type": "display_data"
    }
   ],
   "source": [
    "plt.hist(perturbations, bins=20, edgecolor='black', alpha=0.7)\n",
    "\n",
    "# Labeling the plot\n",
    "plt.xlabel('Perturbation Value')\n",
    "plt.ylabel('Frequency')\n",
    "plt.title('Histogram of Perturbations')\n",
    "\n",
    "# Show the plot\n",
    "plt.show()"
   ]
  },
  {
   "cell_type": "markdown",
   "id": "39eee249-dcaf-47bb-a3e1-c7db1bdfd3ce",
   "metadata": {},
   "source": [
    "#### Some Observations\n",
    "\n",
    "* all the adversarial examples succeed in causing misclassification\n",
    "* most perturbations lie in the range of 0.5 to 2\n",
    "* there are 6 examples which succeeded with minimal perturbation at 0."
   ]
  },
  {
   "cell_type": "code",
   "execution_count": 15,
   "id": "c65e6cdb-9b7d-4295-af93-5f964ac61741",
   "metadata": {},
   "outputs": [
    {
     "name": "stdout",
     "output_type": "stream",
     "text": [
      "Average L2 norm of perturbations: 0.16634521645824094\n"
     ]
    }
   ],
   "source": [
    "# Set model to evaluation mode\n",
    "model.eval()\n",
    "\n",
    "atk = torchattacks.CW(model, c=0.00001, steps=50, lr=0.1)\n",
    "\n",
    "perturbations = []\n",
    "successes = []\n",
    "\n",
    "for data, target in test_loader_subset:\n",
    "    data, target = data.to(device), target.to(device)\n",
    "    adv_data = atk(data, target)\n",
    "    \n",
    "    # Calculate L2 norm of perturbation for each image\n",
    "    perturbation = adv_data - data\n",
    "    epsilon = torch.norm(perturbation.view(perturbation.size(0), -1), p=2).item()\n",
    "    perturbations.append(epsilon)\n",
    "\n",
    "    # Check if attack was successful (i.e., misclassification occurs)\n",
    "    adv_output = model(adv_data).argmax(dim=1)\n",
    "    success = (adv_output != target).cpu().numpy()\n",
    "    successes.append(success[0])\n",
    "\n",
    "# Print or analyze perturbations\n",
    "print(\"Average L2 norm of perturbations:\", np.mean(perturbations))"
   ]
  },
  {
   "cell_type": "code",
   "execution_count": 16,
   "id": "3578d24d-5043-4d9e-b059-0dc62608ee24",
   "metadata": {},
   "outputs": [
    {
     "name": "stderr",
     "output_type": "stream",
     "text": [
      "<>:8: SyntaxWarning: invalid escape sequence '\\e'\n",
      "<>:10: SyntaxWarning: invalid escape sequence '\\e'\n",
      "<>:8: SyntaxWarning: invalid escape sequence '\\e'\n",
      "<>:10: SyntaxWarning: invalid escape sequence '\\e'\n",
      "/tmp/ipykernel_43406/1982224746.py:8: SyntaxWarning: invalid escape sequence '\\e'\n",
      "  plt.xlabel('Perturbation $\\epsilon$ (L2 norm)')\n",
      "/tmp/ipykernel_43406/1982224746.py:10: SyntaxWarning: invalid escape sequence '\\e'\n",
      "  plt.title('Adversarial Success Rate vs Perturbation $\\epsilon$')\n"
     ]
    },
    {
     "data": {
      "image/png": "[encoded data removed]",
      "text/plain": [
       "<Figure size 1000x600 with 1 Axes>"
      ]
     },
     "metadata": {},
     "output_type": "display_data"
    }
   ],
   "source": [
    "# Calculate success rate for each unique epsilon value\n",
    "epsilons_unique = np.unique(perturbations)\n",
    "success_rates = [np.mean([successes[i] for i in range(len(successes)) if perturbations[i] == eps]) for eps in epsilons_unique]\n",
    "\n",
    "# Plotting\n",
    "plt.figure(figsize=(10, 6))\n",
    "plt.plot(epsilons_unique, success_rates, marker='o')\n",
    "plt.xlabel('Perturbation $\\epsilon$ (L2 norm)')\n",
    "plt.ylabel('Adversarial Success Rate')\n",
    "plt.title('Adversarial Success Rate vs Perturbation $\\epsilon$')\n",
    "plt.grid(True)\n",
    "plt.show()"
   ]
  },
  {
   "cell_type": "code",
   "execution_count": 17,
   "id": "f0165a97-b370-4bb6-94b7-4fd685b472de",
   "metadata": {},
   "outputs": [
    {
     "data": {
      "image/png": "[encoded data removed]",
      "text/plain": [
       "<Figure size 640x480 with 1 Axes>"
      ]
     },
     "metadata": {},
     "output_type": "display_data"
    },
    {
     "name": "stdout",
     "output_type": "stream",
     "text": [
      "37  Successes\n"
     ]
    }
   ],
   "source": [
    "true_vals = [i for i, x in enumerate(successes) if x]\n",
    "success_perturbations = [perturbations[i] for i in true_vals]\n",
    "\n",
    "\n",
    "plt.hist(success_perturbations, bins=20, edgecolor='black', alpha=0.7)\n",
    "\n",
    "# Labeling the plot\n",
    "plt.xlabel('Perturbation Value')\n",
    "plt.ylabel('Frequency')\n",
    "plt.title('Histogram of Successful Perturbations')\n",
    "\n",
    "# Show the plot\n",
    "plt.show()\n",
    "\n",
    "print(len(success_perturbations), \" Successes\")"
   ]
  },
  {
   "cell_type": "code",
   "execution_count": 18,
   "id": "3b2084aa-976c-4320-ac7f-df1b51145dac",
   "metadata": {},
   "outputs": [
    {
     "data": {
      "image/png": "[encoded data removed]",
      "text/plain": [
       "<Figure size 640x480 with 1 Axes>"
      ]
     },
     "metadata": {},
     "output_type": "display_data"
    },
    {
     "name": "stdout",
     "output_type": "stream",
     "text": [
      "63  Failiures\n"
     ]
    }
   ],
   "source": [
    "false_vals = [i for i, x in enumerate(successes) if not x]\n",
    "fail_perturbations = [perturbations[i] for i in false_vals]\n",
    "\n",
    "\n",
    "plt.hist(fail_perturbations, edgecolor='black', alpha=0.7)\n",
    "\n",
    "# Labeling the plot\n",
    "plt.xlabel('Perturbation Value')\n",
    "plt.ylabel('Frequency')\n",
    "plt.title('Histogram of Fail Perturbations')\n",
    "\n",
    "# Show the plot\n",
    "plt.show()\n",
    "\n",
    "print(len(fail_perturbations), \" Failiures\")"
   ]
  },
  {
   "cell_type": "code",
   "execution_count": 19,
   "id": "b3290b08-72fe-4a79-bcaf-0961db2bd199",
   "metadata": {},
   "outputs": [
    {
     "name": "stdout",
     "output_type": "stream",
     "text": [
      "Average L2 norm of perturbations: 1.160837140058676\n"
     ]
    }
   ],
   "source": [
    "# Set model to evaluation mode\n",
    "model.eval()\n",
    "\n",
    "atk = torchattacks.CW(model, c=1000, steps=50, lr=0.1)\n",
    "\n",
    "perturbations = []\n",
    "successes = []\n",
    "original_images = [] \n",
    "adversarial_images = [] \n",
    "\n",
    "for data, target in test_loader_subset:\n",
    "    data, target = data.to(device), target.to(device)\n",
    "    adv_data = atk(data, target)\n",
    "    original_images.append(data)\n",
    "    adversarial_images.append(adv_data)\n",
    "    \n",
    "    # Calculate L2 norm of perturbation for each image\n",
    "    perturbation = adv_data - data\n",
    "    epsilon = torch.norm(perturbation.view(perturbation.size(0), -1), p=2).item()\n",
    "    perturbations.append(epsilon)\n",
    "\n",
    "    # Check if attack was successful (i.e., misclassification occurs)\n",
    "    adv_output = model(adv_data).argmax(dim=1)\n",
    "    success = (adv_output != target).cpu().numpy()\n",
    "    successes.append(success[0])\n",
    "\n",
    "# Print or analyze perturbations\n",
    "print(\"Average L2 norm of perturbations:\", np.mean(perturbations))"
   ]
  },
  {
   "cell_type": "code",
   "execution_count": 20,
   "id": "cea7b1c2-6150-4d22-8d94-ed489d51fa56",
   "metadata": {},
   "outputs": [
    {
     "name": "stderr",
     "output_type": "stream",
     "text": [
      "<>:8: SyntaxWarning: invalid escape sequence '\\e'\n",
      "<>:10: SyntaxWarning: invalid escape sequence '\\e'\n",
      "<>:8: SyntaxWarning: invalid escape sequence '\\e'\n",
      "<>:10: SyntaxWarning: invalid escape sequence '\\e'\n",
      "/tmp/ipykernel_43406/1982224746.py:8: SyntaxWarning: invalid escape sequence '\\e'\n",
      "  plt.xlabel('Perturbation $\\epsilon$ (L2 norm)')\n",
      "/tmp/ipykernel_43406/1982224746.py:10: SyntaxWarning: invalid escape sequence '\\e'\n",
      "  plt.title('Adversarial Success Rate vs Perturbation $\\epsilon$')\n"
     ]
    },
    {
     "data": {
      "image/png": "[encoded data removed]",
      "text/plain": [
       "<Figure size 1000x600 with 1 Axes>"
      ]
     },
     "metadata": {},
     "output_type": "display_data"
    }
   ],
   "source": [
    "# Calculate success rate for each unique epsilon value\n",
    "epsilons_unique = np.unique(perturbations)\n",
    "success_rates = [np.mean([successes[i] for i in range(len(successes)) if perturbations[i] == eps]) for eps in epsilons_unique]\n",
    "\n",
    "# Plotting\n",
    "plt.figure(figsize=(10, 6))\n",
    "plt.plot(epsilons_unique, success_rates, marker='o')\n",
    "plt.xlabel('Perturbation $\\epsilon$ (L2 norm)')\n",
    "plt.ylabel('Adversarial Success Rate')\n",
    "plt.title('Adversarial Success Rate vs Perturbation $\\epsilon$')\n",
    "plt.grid(True)\n",
    "plt.show()"
   ]
  },
  {
   "cell_type": "code",
   "execution_count": 21,
   "id": "66a84203-8724-4718-801e-f58c6a9315d5",
   "metadata": {},
   "outputs": [
    {
     "data": {
      "image/png": "[encoded data removed]",
      "text/plain": [
       "<Figure size 640x480 with 1 Axes>"
      ]
     },
     "metadata": {},
     "output_type": "display_data"
    }
   ],
   "source": [
    "plt.hist(perturbations, bins=20, edgecolor='black', alpha=0.7)\n",
    "\n",
    "# Labeling the plot\n",
    "plt.xlabel('Perturbation Value')\n",
    "plt.ylabel('Frequency')\n",
    "plt.title('Histogram of Perturbations')\n",
    "\n",
    "# Show the plot\n",
    "plt.show()"
   ]
  },
  {
   "cell_type": "markdown",
   "id": "ec613eb2-832b-4b53-88c1-2a165b72053d",
   "metadata": {},
   "source": [
    "#### Some Observations\n",
    "\n",
    "* As expected, larger perturbations generally lead to higher success rates since they are more likely to push the input across decision boundaries in the model's feature space.\n",
    "* While increasing perturbation can improve attack success rates, it also makes adversarial examples more detectable. In practical scenarios, attackers aim to minimize perturbation while maintaining high success rates to avoid detection.\n",
    "* The choice of parameters like c, learning rate (lr), and number of steps directly influences the effectiveness and efficiency of the attack. A higher c value increases the emphasis on minimizing classification loss over perturbation size.\n",
    "* for c = 0.00001 The failiure rate is 67% with the attack failing to create noticable perturbations for most examples.\n",
    "* for larger values c the ther perturbations have a normal distribution with some outliers near 0"
   ]
  },
  {
   "cell_type": "code",
   "execution_count": 22,
   "id": "553e5ab6-ac14-48e8-9269-e8ff811ce46f",
   "metadata": {},
   "outputs": [],
   "source": [
    "# Find the indices of the top 3 minimum and maximum perturbations\n",
    "min_indices = np.argsort(perturbations)[:3]  # Indices of smallest perturbations\n",
    "max_indices = np.argsort(perturbations)[-3:]  # Indices of largest perturbations\n",
    "\n",
    "# Prepare the selected samples\n",
    "selected_samples = {\n",
    "    'min': [(original_images[i], adversarial_images[i], perturbations[i]) for i in min_indices],\n",
    "    'max': [(original_images[i], adversarial_images[i], perturbations[i]) for i in max_indices]\n",
    "}"
   ]
  },
  {
   "cell_type": "code",
   "execution_count": 23,
   "id": "b7f65abf-af63-408c-8d21-15c3c14a6b09",
   "metadata": {},
   "outputs": [
    {
     "data": {
      "image/png": "[encoded data removed]",
      "text/plain": [
       "<Figure size 1200x800 with 9 Axes>"
      ]
     },
     "metadata": {},
     "output_type": "display_data"
    },
    {
     "data": {
      "image/png": "[encoded data removed]",
      "text/plain": [
       "<Figure size 1200x800 with 9 Axes>"
      ]
     },
     "metadata": {},
     "output_type": "display_data"
    }
   ],
   "source": [
    "# Function to visualize the selected samples\n",
    "def visualize(samples, title_prefix):\n",
    "    fig, axs = plt.subplots(3, 3, figsize=(12, 8))\n",
    "    for i, (original, adversarial, epsilon) in enumerate(samples):\n",
    "        # Original Image\n",
    "        axs[0, i].imshow(original.cpu()[0][0])  # Convert from CxHxW to HxWxC\n",
    "        axs[0, i].set_title(f'Original Image\\nEpsilon: {epsilon:.4f}')\n",
    "        axs[0, i].axis('off')\n",
    "\n",
    "        # Perturbation\n",
    "        perturbation = adversarial - original\n",
    "        axs[1, i].imshow(perturbation.cpu()[0][0])  # Visualize the perturbation\n",
    "        axs[1, i].set_title('Perturbation')\n",
    "        axs[1, i].axis('off')\n",
    "\n",
    "        # Adversarial Example\n",
    "        axs[2, i].imshow(adversarial.cpu()[0][0])  # Convert from CxHxW to HxWxC\n",
    "        axs[2, i].set_title('Adversarial Example')\n",
    "        axs[2, i].axis('off')\n",
    "\n",
    "    plt.suptitle(title_prefix)\n",
    "    plt.show()\n",
    "\n",
    "# Visualize minimum perturbation samples\n",
    "visualize(selected_samples['min'], 'Top 3 Samples of Minimum Perturbation')\n",
    "\n",
    "# Visualize maximum perturbation samples\n",
    "visualize(selected_samples['max'], 'Top 3 Samples of Maximum Perturbation')"
   ]
  },
  {
   "cell_type": "markdown",
   "id": "ba384a88-42b9-4fa7-8425-dc702c32b80d",
   "metadata": {},
   "source": [
    "#### Some Observations\n",
    "\n",
    "* For samples with minimum perturbation, it is impossible to distinguish between original images and the adversarial images with the naked eye.\n",
    "* The minimum perturbation images are more likely to be near descision boundaries and have easier shapes.\n",
    "* For samples with maximum perturbation, original images and the adversarial images can be easily distinguised.\n",
    "* The minimum perturbation images are more likely to be away from descision boundaries and have complex shapes."
   ]
  },
  {
   "cell_type": "markdown",
   "id": "PtSn4NY6c7NY",
   "metadata": {
    "id": "PtSn4NY6c7NY"
   },
   "source": [
    "# Problem 2\n"
   ]
  },
  {
   "cell_type": "code",
   "execution_count": 24,
   "id": "8f021929-2126-4e26-b461-b5f122c199a6",
   "metadata": {},
   "outputs": [],
   "source": [
    "## For a fixed setting (b= 4,p= 1%), experiment with several positions of the backdoor\n",
    "\n",
    "# Parameters\n",
    "original_class = 0  # Example: 'T-shirt/top' in Fashion MNIST\n",
    "target_class = 1    # Example: 'Trouser'\n",
    "backdoor_size = 4   # Number of pixels in the backdoor\n",
    "poison_percentage = 0.01  # 1% of the original class samples"
   ]
  },
  {
   "cell_type": "code",
   "execution_count": 25,
   "id": "sJS4rbO_a5VT",
   "metadata": {
    "id": "sJS4rbO_a5VT"
   },
   "outputs": [],
   "source": [
    "# Define backdoor positions (e.g., top-left, center, bottom-right)\n",
    "backdoor_positions_list = [\n",
    "    [(0, 0),(0,1),(1,0),(1,1)],  # Top-left\n",
    "    [(0,26),(0,27),(1,26),(1,27)],  # Bottom-left\n",
    "    [(26,26),(26,27),(27,26),(27,27)]  # Bottom-right\n",
    "]\n",
    "\n",
    "# Function to add backdoor pattern\n",
    "def add_backdoor(image, positions, value=1.0):\n",
    "    for pos in positions:\n",
    "        image[0][pos] = value\n",
    "    return image"
   ]
  },
  {
   "cell_type": "code",
   "execution_count": 26,
   "id": "3f0b9484-0bc1-4e37-8f33-4214271f55ba",
   "metadata": {},
   "outputs": [],
   "source": [
    "def generate_poisoned_dataset(backdoor_positions, poison_percentage, class_count=6000, type='train'):\n",
    "    # Poison dataset\n",
    "    poisoned_data = []\n",
    "    poisoned_targets = []\n",
    "    \n",
    "    count = 0\n",
    "    \n",
    "    for img, label in fmnist_data[type]:\n",
    "        if label == original_class and count < class_count * poison_percentage:\n",
    "            img = add_backdoor(img, backdoor_positions)\n",
    "            label = target_class\n",
    "            count+=1\n",
    "        poisoned_data.append(img)\n",
    "        poisoned_targets.append(label)\n",
    "    \n",
    "    # Convert to PyTorch dataset\n",
    "    poisoned_dataset = TensorDataset(torch.stack(poisoned_data), torch.tensor(poisoned_targets))\n",
    "    \n",
    "    return poisoned_dataset"
   ]
  },
  {
   "cell_type": "code",
   "execution_count": 27,
   "id": "adb3ee84-ac19-458f-ad68-719644e3e27d",
   "metadata": {},
   "outputs": [],
   "source": [
    "# Train and evaluate function\n",
    "def train_and_evaluate(backdoor_positions, poison_percentage=poison_percentage):\n",
    "\n",
    "    poisoned_dataset = generate_poisoned_dataset(backdoor_positions, poison_percentage)\n",
    "    train_loader = DataLoader(poisoned_dataset, batch_size=64, shuffle=True)\n",
    "\n",
    "    model = SmallCNN()\n",
    "    model.load_state_dict(torch.load(\"smallcnn\", weights_only=True))\n",
    "    model.to(device)\n",
    "\n",
    "    criterion = nn.CrossEntropyLoss()\n",
    "    optimizer = optim.Adam(model.parameters(), lr=0.001)\n",
    "\n",
    "    # Train the model\n",
    "    model.train()\n",
    "    for epoch in tqdm(range(10)):  # Short training for demonstration\n",
    "        for data, target in train_loader:\n",
    "            data, target = data.to(device), target.to(device)\n",
    "            optimizer.zero_grad()\n",
    "            output = model(data)\n",
    "            loss = criterion(output, target)\n",
    "            loss.backward()\n",
    "            optimizer.step()\n",
    "\n",
    "    # Evaluate on clean test samples\n",
    "    clean_correct = 0\n",
    "    total_clean_samples = len(fmnist_data['test'])\n",
    "    \n",
    "    model.eval()\n",
    "    with torch.no_grad():\n",
    "        for data, target in DataLoader(fmnist_data['test']):\n",
    "            data, target = data.to(device), target.to(device)\n",
    "            output = model(data).argmax(dim=1)\n",
    "            clean_correct += (output == target).sum().item()\n",
    "\n",
    "    clean_accuracy = clean_correct / total_clean_samples\n",
    "\n",
    "    # Evaluate on test samples with the trigger pattern\n",
    "    triggered_correct = 0\n",
    "    total_triggered = 0\n",
    "\n",
    "    with torch.no_grad():\n",
    "        for data, _ in DataLoader(fmnist_data['test']):\n",
    "            if _ == original_class:\n",
    "                data_poisoned = data.clone()\n",
    "                for pos in backdoor_positions:\n",
    "                    data_poisoned[0][0][pos] = 1.0\n",
    "                data_poisoned = data_poisoned.to(device)\n",
    "                output_poisoned = model(data_poisoned).argmax(dim=1)\n",
    "                triggered_correct += (output_poisoned == target_class).sum().item()\n",
    "                total_triggered+=1\n",
    "\n",
    "    triggered_accuracy = triggered_correct / total_triggered\n",
    "\n",
    "    return clean_accuracy, triggered_accuracy"
   ]
  },
  {
   "cell_type": "code",
   "execution_count": 28,
   "id": "vh__u1JNJ28k",
   "metadata": {
    "id": "vh__u1JNJ28k"
   },
   "outputs": [
    {
     "name": "stderr",
     "output_type": "stream",
     "text": [
      "100%|██████████| 10/10 [00:25<00:00,  2.57s/it]\n"
     ]
    },
    {
     "name": "stdout",
     "output_type": "stream",
     "text": [
      "Backdoor Position 1: Clean Accuracy: 0.9229, Triggered Accuracy: 0.7850\n"
     ]
    },
    {
     "name": "stderr",
     "output_type": "stream",
     "text": [
      "100%|██████████| 10/10 [00:25<00:00,  2.58s/it]\n"
     ]
    },
    {
     "name": "stdout",
     "output_type": "stream",
     "text": [
      "Backdoor Position 2: Clean Accuracy: 0.9222, Triggered Accuracy: 0.8480\n"
     ]
    },
    {
     "name": "stderr",
     "output_type": "stream",
     "text": [
      "100%|██████████| 10/10 [00:25<00:00,  2.57s/it]\n"
     ]
    },
    {
     "name": "stdout",
     "output_type": "stream",
     "text": [
      "Backdoor Position 3: Clean Accuracy: 0.9186, Triggered Accuracy: 0.8850\n"
     ]
    }
   ],
   "source": [
    "from tqdm import tqdm\n",
    "# Run experiments for each backdoor position and report results\n",
    "results = []\n",
    "for i, positions in enumerate(backdoor_positions_list):\n",
    "    clean_acc, trigger_acc = train_and_evaluate(positions)\n",
    "    results.append((clean_acc, trigger_acc))\n",
    "    print(f\"Backdoor Position {i+1}: Clean Accuracy: {clean_acc:.4f}, Triggered Accuracy: {trigger_acc:.4f}\")"
   ]
  },
  {
   "cell_type": "markdown",
   "id": "f7de7e02-0c41-4654-95a8-c316905fcecf",
   "metadata": {},
   "source": [
    "##### Some Conclusions\n",
    "\n",
    "* We use attack success rate to measure the success of the backdoor poisoning attack by poisoning all samples of the original class in the test set and then counting the percentage of samples for which it was able to predict the targeted class.\n",
    "* After Training the backdoor position at the best pattern is at the bottom right with 91.86% accuracy on clean samples and 88.5% Attack Success Rate.\n",
    "* The backdoor position at botton left also had high success of 84.8% and it had also a better accuracy of 92.22%."
   ]
  },
  {
   "cell_type": "code",
   "execution_count": 29,
   "id": "Y_rGyIsuAMcU",
   "metadata": {
    "id": "Y_rGyIsuAMcU"
   },
   "outputs": [
    {
     "data": {
      "text/plain": [
       "<matplotlib.image.AxesImage at 0x2b1322a299a0>"
      ]
     },
     "execution_count": 29,
     "metadata": {},
     "output_type": "execute_result"
    },
    {
     "data": {
      "image/png": "[encoded data removed]",
      "text/plain": [
       "<Figure size 640x480 with 1 Axes>"
      ]
     },
     "metadata": {},
     "output_type": "display_data"
    }
   ],
   "source": [
    "## Example of the backdoor position 3 patch\n",
    "\n",
    "for data, _ in DataLoader(fmnist_data['test']):\n",
    "    if _ == original_class:\n",
    "        data_poisoned = data.clone()\n",
    "        for pos in backdoor_positions_list[2]:\n",
    "            data_poisoned[0][0][pos] = 1.0\n",
    "        break\n",
    "plt.imshow(data_poisoned[0][0])"
   ]
  },
  {
   "cell_type": "code",
   "execution_count": 30,
   "id": "DAtPC9NciRy0",
   "metadata": {
    "id": "DAtPC9NciRy0"
   },
   "outputs": [],
   "source": [
    "poison_percentages = [0.001, 0.01, 0.05]\n",
    "\n",
    "backdoors = [\n",
    "    [(27,27)],  # 1\n",
    "    [(26,26),(26,27),(27,26),(27,27)], # 4\n",
    "    [(24,26),(24,27),(25,26),(25,27),(26,26),(26,27),(27,26),(27,27)] # 8\n",
    "]\n",
    "\n",
    "backdoor_value = {0:1,1:4,2:8}"
   ]
  },
  {
   "cell_type": "code",
   "execution_count": 31,
   "id": "fUJLIC0QhGtS",
   "metadata": {
    "id": "fUJLIC0QhGtS"
   },
   "outputs": [
    {
     "name": "stderr",
     "output_type": "stream",
     "text": [
      "100%|██████████| 10/10 [00:25<00:00,  2.58s/it]\n"
     ]
    },
    {
     "name": "stdout",
     "output_type": "stream",
     "text": [
      "Poison Percentage 0.10% Backdoor Value 1: Clean Accuracy: 0.9229, Triggered Accuracy: 0.0000\n"
     ]
    },
    {
     "name": "stderr",
     "output_type": "stream",
     "text": [
      "100%|██████████| 10/10 [00:25<00:00,  2.58s/it]\n"
     ]
    },
    {
     "name": "stdout",
     "output_type": "stream",
     "text": [
      "Poison Percentage 0.10% Backdoor Value 4: Clean Accuracy: 0.9245, Triggered Accuracy: 0.0140\n"
     ]
    },
    {
     "name": "stderr",
     "output_type": "stream",
     "text": [
      "100%|██████████| 10/10 [00:25<00:00,  2.59s/it]\n"
     ]
    },
    {
     "name": "stdout",
     "output_type": "stream",
     "text": [
      "Poison Percentage 0.10% Backdoor Value 8: Clean Accuracy: 0.9189, Triggered Accuracy: 0.0270\n"
     ]
    },
    {
     "name": "stderr",
     "output_type": "stream",
     "text": [
      "100%|██████████| 10/10 [00:25<00:00,  2.58s/it]\n"
     ]
    },
    {
     "name": "stdout",
     "output_type": "stream",
     "text": [
      "Poison Percentage 1.00% Backdoor Value 1: Clean Accuracy: 0.9207, Triggered Accuracy: 0.8470\n"
     ]
    },
    {
     "name": "stderr",
     "output_type": "stream",
     "text": [
      "100%|██████████| 10/10 [00:26<00:00,  2.60s/it]\n"
     ]
    },
    {
     "name": "stdout",
     "output_type": "stream",
     "text": [
      "Poison Percentage 1.00% Backdoor Value 4: Clean Accuracy: 0.9265, Triggered Accuracy: 0.8780\n"
     ]
    },
    {
     "name": "stderr",
     "output_type": "stream",
     "text": [
      "100%|██████████| 10/10 [00:26<00:00,  2.61s/it]\n"
     ]
    },
    {
     "name": "stdout",
     "output_type": "stream",
     "text": [
      "Poison Percentage 1.00% Backdoor Value 8: Clean Accuracy: 0.9253, Triggered Accuracy: 0.8560\n"
     ]
    },
    {
     "name": "stderr",
     "output_type": "stream",
     "text": [
      "100%|██████████| 10/10 [00:25<00:00,  2.59s/it]\n"
     ]
    },
    {
     "name": "stdout",
     "output_type": "stream",
     "text": [
      "Poison Percentage 5.00% Backdoor Value 1: Clean Accuracy: 0.9239, Triggered Accuracy: 0.9760\n"
     ]
    },
    {
     "name": "stderr",
     "output_type": "stream",
     "text": [
      "100%|██████████| 10/10 [00:25<00:00,  2.57s/it]\n"
     ]
    },
    {
     "name": "stdout",
     "output_type": "stream",
     "text": [
      "Poison Percentage 5.00% Backdoor Value 4: Clean Accuracy: 0.9208, Triggered Accuracy: 0.9550\n"
     ]
    },
    {
     "name": "stderr",
     "output_type": "stream",
     "text": [
      "100%|██████████| 10/10 [00:25<00:00,  2.57s/it]\n"
     ]
    },
    {
     "name": "stdout",
     "output_type": "stream",
     "text": [
      "Poison Percentage 5.00% Backdoor Value 8: Clean Accuracy: 0.9221, Triggered Accuracy: 0.9870\n"
     ]
    }
   ],
   "source": [
    "results = []\n",
    "for poison in poison_percentages:\n",
    "    for i, positions in enumerate(backdoors):\n",
    "        clean_acc, trigger_acc = train_and_evaluate(positions, poison_percentage=poison)\n",
    "        results.append((clean_acc, trigger_acc))\n",
    "        print(f\"Poison Percentage {100*poison:.2f}% Backdoor Value {backdoor_value[i]}: Clean Accuracy: {clean_acc:.4f}, Triggered Accuracy: {trigger_acc:.4f}\")"
   ]
  },
  {
   "cell_type": "markdown",
   "id": "330d3f7d-2545-478d-92ef-b04dc16b6b10",
   "metadata": {},
   "source": [
    "##### Some more Conclusions\n",
    "\n",
    "* As we increase the size of the poison percentage, the attack success rate increases with the most dramatic increase being between 0.1 and 1 percent.\n",
    "* 0.1 percent is not enough to train a backdoor model with the highest attack success rate being 4.9%\n",
    "* A single pixel can be a backdoor given enough poisoned data and the increase in pixel count only slightly increases the attack success rate.\n",
    "* Increase poison percentage or number of backdoor pixels most of the times reduce the accuracy on clean dataset"
   ]
  }
 ],
 "metadata": {
  "accelerator": "GPU",
  "colab": {
   "gpuType": "T4",
   "provenance": []
  },
  "kernelspec": {
   "display_name": "Python 3 (ipykernel)",
   "language": "python",
   "name": "python3"
  },
  "language_info": {
   "codemirror_mode": {
    "name": "ipython",
    "version": 3
   },
   "file_extension": ".py",
   "mimetype": "text/x-python",
   "name": "python",
   "nbconvert_exporter": "python",
   "pygments_lexer": "ipython3",
   "version": "3.12.1"
  },
  "widgets": {
   "application/vnd.jupyter.widget-state+json": {
    "0ceaac8bff70492caeafb519f4915ef4": {
     "model_module": "@jupyter-widgets/controls",
     "model_module_version": "1.5.0",
     "model_name": "ProgressStyleModel",
     "state": {
      "_model_module": "@jupyter-widgets/controls",
      "_model_module_version": "1.5.0",
      "_model_name": "ProgressStyleModel",
      "_view_count": null,
      "_view_module": "@jupyter-widgets/base",
      "_view_module_version": "1.2.0",
      "_view_name": "StyleView",
      "bar_color": null,
      "description_width": ""
     }
    },
    "0e638726ecc4464c8ccee03615835494": {
     "model_module": "@jupyter-widgets/controls",
     "model_module_version": "1.5.0",
     "model_name": "DescriptionStyleModel",
     "state": {
      "_model_module": "@jupyter-widgets/controls",
      "_model_module_version": "1.5.0",
      "_model_name": "DescriptionStyleModel",
      "_view_count": null,
      "_view_module": "@jupyter-widgets/base",
      "_view_module_version": "1.2.0",
      "_view_name": "StyleView",
      "description_width": ""
     }
    },
    "1015b46f8e5148a598ad7888dc2f6ffa": {
     "model_module": "@jupyter-widgets/controls",
     "model_module_version": "1.5.0",
     "model_name": "DescriptionStyleModel",
     "state": {
      "_model_module": "@jupyter-widgets/controls",
      "_model_module_version": "1.5.0",
      "_model_name": "DescriptionStyleModel",
      "_view_count": null,
      "_view_module": "@jupyter-widgets/base",
      "_view_module_version": "1.2.0",
      "_view_name": "StyleView",
      "description_width": ""
     }
    },
    "1bb3e36cb9d44d4a8c978eb1171d8cae": {
     "model_module": "@jupyter-widgets/base",
     "model_module_version": "1.2.0",
     "model_name": "LayoutModel",
     "state": {
      "_model_module": "@jupyter-widgets/base",
      "_model_module_version": "1.2.0",
      "_model_name": "LayoutModel",
      "_view_count": null,
      "_view_module": "@jupyter-widgets/base",
      "_view_module_version": "1.2.0",
      "_view_name": "LayoutView",
      "align_content": null,
      "align_items": null,
      "align_self": null,
      "border": null,
      "bottom": null,
      "display": null,
      "flex": null,
      "flex_flow": null,
      "grid_area": null,
      "grid_auto_columns": null,
      "grid_auto_flow": null,
      "grid_auto_rows": null,
      "grid_column": null,
      "grid_gap": null,
      "grid_row": null,
      "grid_template_areas": null,
      "grid_template_columns": null,
      "grid_template_rows": null,
      "height": null,
      "justify_content": null,
      "justify_items": null,
      "left": null,
      "margin": null,
      "max_height": null,
      "max_width": null,
      "min_height": null,
      "min_width": null,
      "object_fit": null,
      "object_position": null,
      "order": null,
      "overflow": null,
      "overflow_x": null,
      "overflow_y": null,
      "padding": null,
      "right": null,
      "top": null,
      "visibility": null,
      "width": null
     }
    },
    "218df31737f24831923c2b14835ae63b": {
     "model_module": "@jupyter-widgets/base",
     "model_module_version": "1.2.0",
     "model_name": "LayoutModel",
     "state": {
      "_model_module": "@jupyter-widgets/base",
      "_model_module_version": "1.2.0",
      "_model_name": "LayoutModel",
      "_view_count": null,
      "_view_module": "@jupyter-widgets/base",
      "_view_module_version": "1.2.0",
      "_view_name": "LayoutView",
      "align_content": null,
      "align_items": null,
      "align_self": null,
      "border": null,
      "bottom": null,
      "display": null,
      "flex": null,
      "flex_flow": null,
      "grid_area": null,
      "grid_auto_columns": null,
      "grid_auto_flow": null,
      "grid_auto_rows": null,
      "grid_column": null,
      "grid_gap": null,
      "grid_row": null,
      "grid_template_areas": null,
      "grid_template_columns": null,
      "grid_template_rows": null,
      "height": null,
      "justify_content": null,
      "justify_items": null,
      "left": null,
      "margin": null,
      "max_height": null,
      "max_width": null,
      "min_height": null,
      "min_width": null,
      "object_fit": null,
      "object_position": null,
      "order": null,
      "overflow": null,
      "overflow_x": null,
      "overflow_y": null,
      "padding": null,
      "right": null,
      "top": null,
      "visibility": null,
      "width": null
     }
    },
    "238a14a20af54699b486a5d9a1fffd92": {
     "model_module": "@jupyter-widgets/controls",
     "model_module_version": "1.5.0",
     "model_name": "HBoxModel",
     "state": {
      "_dom_classes": [],
      "_model_module": "@jupyter-widgets/controls",
      "_model_module_version": "1.5.0",
      "_model_name": "HBoxModel",
      "_view_count": null,
      "_view_module": "@jupyter-widgets/controls",
      "_view_module_version": "1.5.0",
      "_view_name": "HBoxView",
      "box_style": "",
      "children": [
       "IPY_MODEL_d72fcad15e644d95888c95965079b1b8",
       "IPY_MODEL_7d8e05cde477453a990b6fa928c3a4e8",
       "IPY_MODEL_c73134a61ac84a9c909f98bb8cc520c7"
      ],
      "layout": "IPY_MODEL_eab7ac64e066499e80abb950ad93ef6b"
     }
    },
    "24144c2ee1c54f4ea9d689ca653d8888": {
     "model_module": "@jupyter-widgets/base",
     "model_module_version": "1.2.0",
     "model_name": "LayoutModel",
     "state": {
      "_model_module": "@jupyter-widgets/base",
      "_model_module_version": "1.2.0",
      "_model_name": "LayoutModel",
      "_view_count": null,
      "_view_module": "@jupyter-widgets/base",
      "_view_module_version": "1.2.0",
      "_view_name": "LayoutView",
      "align_content": null,
      "align_items": null,
      "align_self": null,
      "border": null,
      "bottom": null,
      "display": null,
      "flex": null,
      "flex_flow": null,
      "grid_area": null,
      "grid_auto_columns": null,
      "grid_auto_flow": null,
      "grid_auto_rows": null,
      "grid_column": null,
      "grid_gap": null,
      "grid_row": null,
      "grid_template_areas": null,
      "grid_template_columns": null,
      "grid_template_rows": null,
      "height": null,
      "justify_content": null,
      "justify_items": null,
      "left": null,
      "margin": null,
      "max_height": null,
      "max_width": null,
      "min_height": null,
      "min_width": null,
      "object_fit": null,
      "object_position": null,
      "order": null,
      "overflow": null,
      "overflow_x": null,
      "overflow_y": null,
      "padding": null,
      "right": null,
      "top": null,
      "visibility": null,
      "width": null
     }
    },
    "290830cb3c5a4c9498f7cd84056cb1ea": {
     "model_module": "@jupyter-widgets/controls",
     "model_module_version": "1.5.0",
     "model_name": "HTMLModel",
     "state": {
      "_dom_classes": [],
      "_model_module": "@jupyter-widgets/controls",
      "_model_module_version": "1.5.0",
      "_model_name": "HTMLModel",
      "_view_count": null,
      "_view_module": "@jupyter-widgets/controls",
      "_view_module_version": "1.5.0",
      "_view_name": "HTMLView",
      "description": "",
      "description_tooltip": null,
      "layout": "IPY_MODEL_f8d5c48e986d4e5cba0dc882f557db94",
      "placeholder": "​",
      "style": "IPY_MODEL_c926f3a1c38d4ba98d04ef3d8b2dbe04",
      "value": "100%"
     }
    },
    "3cd8ec01698449c1816dfb088d06d1fd": {
     "model_module": "@jupyter-widgets/controls",
     "model_module_version": "1.5.0",
     "model_name": "DescriptionStyleModel",
     "state": {
      "_model_module": "@jupyter-widgets/controls",
      "_model_module_version": "1.5.0",
      "_model_name": "DescriptionStyleModel",
      "_view_count": null,
      "_view_module": "@jupyter-widgets/base",
      "_view_module_version": "1.2.0",
      "_view_name": "StyleView",
      "description_width": ""
     }
    },
    "40874e0a78e6486bae1051b04e7ab7bb": {
     "model_module": "@jupyter-widgets/controls",
     "model_module_version": "1.5.0",
     "model_name": "DescriptionStyleModel",
     "state": {
      "_model_module": "@jupyter-widgets/controls",
      "_model_module_version": "1.5.0",
      "_model_name": "DescriptionStyleModel",
      "_view_count": null,
      "_view_module": "@jupyter-widgets/base",
      "_view_module_version": "1.2.0",
      "_view_name": "StyleView",
      "description_width": ""
     }
    },
    "4208152d0d1045099d314b18c62190b9": {
     "model_module": "@jupyter-widgets/base",
     "model_module_version": "1.2.0",
     "model_name": "LayoutModel",
     "state": {
      "_model_module": "@jupyter-widgets/base",
      "_model_module_version": "1.2.0",
      "_model_name": "LayoutModel",
      "_view_count": null,
      "_view_module": "@jupyter-widgets/base",
      "_view_module_version": "1.2.0",
      "_view_name": "LayoutView",
      "align_content": null,
      "align_items": null,
      "align_self": null,
      "border": null,
      "bottom": null,
      "display": null,
      "flex": null,
      "flex_flow": null,
      "grid_area": null,
      "grid_auto_columns": null,
      "grid_auto_flow": null,
      "grid_auto_rows": null,
      "grid_column": null,
      "grid_gap": null,
      "grid_row": null,
      "grid_template_areas": null,
      "grid_template_columns": null,
      "grid_template_rows": null,
      "height": null,
      "justify_content": null,
      "justify_items": null,
      "left": null,
      "margin": null,
      "max_height": null,
      "max_width": null,
      "min_height": null,
      "min_width": null,
      "object_fit": null,
      "object_position": null,
      "order": null,
      "overflow": null,
      "overflow_x": null,
      "overflow_y": null,
      "padding": null,
      "right": null,
      "top": null,
      "visibility": null,
      "width": null
     }
    },
    "429fa0a4b19e4a048a96de91c5395575": {
     "model_module": "@jupyter-widgets/controls",
     "model_module_version": "1.5.0",
     "model_name": "FloatProgressModel",
     "state": {
      "_dom_classes": [],
      "_model_module": "@jupyter-widgets/controls",
      "_model_module_version": "1.5.0",
      "_model_name": "FloatProgressModel",
      "_view_count": null,
      "_view_module": "@jupyter-widgets/controls",
      "_view_module_version": "1.5.0",
      "_view_name": "ProgressView",
      "bar_style": "success",
      "description": "",
      "description_tooltip": null,
      "layout": "IPY_MODEL_218df31737f24831923c2b14835ae63b",
      "max": 4422102,
      "min": 0,
      "orientation": "horizontal",
      "style": "IPY_MODEL_be3c5dd26df5488191040cc1849bfc3d",
      "value": 4422102
     }
    },
    "4877cee7b47f4e57be91efe6bcc603fd": {
     "model_module": "@jupyter-widgets/controls",
     "model_module_version": "1.5.0",
     "model_name": "HBoxModel",
     "state": {
      "_dom_classes": [],
      "_model_module": "@jupyter-widgets/controls",
      "_model_module_version": "1.5.0",
      "_model_name": "HBoxModel",
      "_view_count": null,
      "_view_module": "@jupyter-widgets/controls",
      "_view_module_version": "1.5.0",
      "_view_name": "HBoxView",
      "box_style": "",
      "children": [
       "IPY_MODEL_290830cb3c5a4c9498f7cd84056cb1ea",
       "IPY_MODEL_87177d01165f41dca8c6901c88c22893",
       "IPY_MODEL_a62e7f1123004f1a92cd1e027db97a6d"
      ],
      "layout": "IPY_MODEL_dc0a64431c74427f81ca1c1fba26a9a5"
     }
    },
    "49556a52cad84377a63c8364ec35e896": {
     "model_module": "@jupyter-widgets/controls",
     "model_module_version": "1.5.0",
     "model_name": "HTMLModel",
     "state": {
      "_dom_classes": [],
      "_model_module": "@jupyter-widgets/controls",
      "_model_module_version": "1.5.0",
      "_model_name": "HTMLModel",
      "_view_count": null,
      "_view_module": "@jupyter-widgets/controls",
      "_view_module_version": "1.5.0",
      "_view_name": "HTMLView",
      "description": "",
      "description_tooltip": null,
      "layout": "IPY_MODEL_1bb3e36cb9d44d4a8c978eb1171d8cae",
      "placeholder": "​",
      "style": "IPY_MODEL_40874e0a78e6486bae1051b04e7ab7bb",
      "value": "100%"
     }
    },
    "5379628689504e699985aea70ec6c387": {
     "model_module": "@jupyter-widgets/controls",
     "model_module_version": "1.5.0",
     "model_name": "HBoxModel",
     "state": {
      "_dom_classes": [],
      "_model_module": "@jupyter-widgets/controls",
      "_model_module_version": "1.5.0",
      "_model_name": "HBoxModel",
      "_view_count": null,
      "_view_module": "@jupyter-widgets/controls",
      "_view_module_version": "1.5.0",
      "_view_name": "HBoxView",
      "box_style": "",
      "children": [
       "IPY_MODEL_b04f518269ad407ea0cbb4a35a621589",
       "IPY_MODEL_429fa0a4b19e4a048a96de91c5395575",
       "IPY_MODEL_5cdf3c5d9c19421087b9e9226134b87a"
      ],
      "layout": "IPY_MODEL_5e0a6fe69ec54405a63bfddf484187cb"
     }
    },
    "53e17699bd674e3eaff660a8e434f13a": {
     "model_module": "@jupyter-widgets/controls",
     "model_module_version": "1.5.0",
     "model_name": "DescriptionStyleModel",
     "state": {
      "_model_module": "@jupyter-widgets/controls",
      "_model_module_version": "1.5.0",
      "_model_name": "DescriptionStyleModel",
      "_view_count": null,
      "_view_module": "@jupyter-widgets/base",
      "_view_module_version": "1.2.0",
      "_view_name": "StyleView",
      "description_width": ""
     }
    },
    "5cdf3c5d9c19421087b9e9226134b87a": {
     "model_module": "@jupyter-widgets/controls",
     "model_module_version": "1.5.0",
     "model_name": "HTMLModel",
     "state": {
      "_dom_classes": [],
      "_model_module": "@jupyter-widgets/controls",
      "_model_module_version": "1.5.0",
      "_model_name": "HTMLModel",
      "_view_count": null,
      "_view_module": "@jupyter-widgets/controls",
      "_view_module_version": "1.5.0",
      "_view_name": "HTMLView",
      "description": "",
      "description_tooltip": null,
      "layout": "IPY_MODEL_9c029cad15d4403aa75a5cac52545fa2",
      "placeholder": "​",
      "style": "IPY_MODEL_53e17699bd674e3eaff660a8e434f13a",
      "value": " 4422102/4422102 [00:00&lt;00:00, 5977258.58it/s]"
     }
    },
    "5e0a6fe69ec54405a63bfddf484187cb": {
     "model_module": "@jupyter-widgets/base",
     "model_module_version": "1.2.0",
     "model_name": "LayoutModel",
     "state": {
      "_model_module": "@jupyter-widgets/base",
      "_model_module_version": "1.2.0",
      "_model_name": "LayoutModel",
      "_view_count": null,
      "_view_module": "@jupyter-widgets/base",
      "_view_module_version": "1.2.0",
      "_view_name": "LayoutView",
      "align_content": null,
      "align_items": null,
      "align_self": null,
      "border": null,
      "bottom": null,
      "display": null,
      "flex": null,
      "flex_flow": null,
      "grid_area": null,
      "grid_auto_columns": null,
      "grid_auto_flow": null,
      "grid_auto_rows": null,
      "grid_column": null,
      "grid_gap": null,
      "grid_row": null,
      "grid_template_areas": null,
      "grid_template_columns": null,
      "grid_template_rows": null,
      "height": null,
      "justify_content": null,
      "justify_items": null,
      "left": null,
      "margin": null,
      "max_height": null,
      "max_width": null,
      "min_height": null,
      "min_width": null,
      "object_fit": null,
      "object_position": null,
      "order": null,
      "overflow": null,
      "overflow_x": null,
      "overflow_y": null,
      "padding": null,
      "right": null,
      "top": null,
      "visibility": null,
      "width": null
     }
    },
    "79ea79ffa70a418ea26d7139c8383205": {
     "model_module": "@jupyter-widgets/controls",
     "model_module_version": "1.5.0",
     "model_name": "ProgressStyleModel",
     "state": {
      "_model_module": "@jupyter-widgets/controls",
      "_model_module_version": "1.5.0",
      "_model_name": "ProgressStyleModel",
      "_view_count": null,
      "_view_module": "@jupyter-widgets/base",
      "_view_module_version": "1.2.0",
      "_view_name": "StyleView",
      "bar_color": null,
      "description_width": ""
     }
    },
    "7d8e05cde477453a990b6fa928c3a4e8": {
     "model_module": "@jupyter-widgets/controls",
     "model_module_version": "1.5.0",
     "model_name": "FloatProgressModel",
     "state": {
      "_dom_classes": [],
      "_model_module": "@jupyter-widgets/controls",
      "_model_module_version": "1.5.0",
      "_model_name": "FloatProgressModel",
      "_view_count": null,
      "_view_module": "@jupyter-widgets/controls",
      "_view_module_version": "1.5.0",
      "_view_name": "ProgressView",
      "bar_style": "success",
      "description": "",
      "description_tooltip": null,
      "layout": "IPY_MODEL_ae3d172991fe4f67bf939931aee25d7c",
      "max": 29515,
      "min": 0,
      "orientation": "horizontal",
      "style": "IPY_MODEL_e66dcec094e34e21a608310c1d1ee371",
      "value": 29515
     }
    },
    "87177d01165f41dca8c6901c88c22893": {
     "model_module": "@jupyter-widgets/controls",
     "model_module_version": "1.5.0",
     "model_name": "FloatProgressModel",
     "state": {
      "_dom_classes": [],
      "_model_module": "@jupyter-widgets/controls",
      "_model_module_version": "1.5.0",
      "_model_name": "FloatProgressModel",
      "_view_count": null,
      "_view_module": "@jupyter-widgets/controls",
      "_view_module_version": "1.5.0",
      "_view_name": "ProgressView",
      "bar_style": "success",
      "description": "",
      "description_tooltip": null,
      "layout": "IPY_MODEL_de2b0a6c6d2a4e998df24fb522df7980",
      "max": 5148,
      "min": 0,
      "orientation": "horizontal",
      "style": "IPY_MODEL_79ea79ffa70a418ea26d7139c8383205",
      "value": 5148
     }
    },
    "8892b365933e42ce8dbcfb55c65f2a75": {
     "model_module": "@jupyter-widgets/controls",
     "model_module_version": "1.5.0",
     "model_name": "HTMLModel",
     "state": {
      "_dom_classes": [],
      "_model_module": "@jupyter-widgets/controls",
      "_model_module_version": "1.5.0",
      "_model_name": "HTMLModel",
      "_view_count": null,
      "_view_module": "@jupyter-widgets/controls",
      "_view_module_version": "1.5.0",
      "_view_name": "HTMLView",
      "description": "",
      "description_tooltip": null,
      "layout": "IPY_MODEL_24144c2ee1c54f4ea9d689ca653d8888",
      "placeholder": "​",
      "style": "IPY_MODEL_e7f0ccf56b5e435a81bea9249b526ac4",
      "value": " 26421880/26421880 [00:01&lt;00:00, 30166452.75it/s]"
     }
    },
    "9c029cad15d4403aa75a5cac52545fa2": {
     "model_module": "@jupyter-widgets/base",
     "model_module_version": "1.2.0",
     "model_name": "LayoutModel",
     "state": {
      "_model_module": "@jupyter-widgets/base",
      "_model_module_version": "1.2.0",
      "_model_name": "LayoutModel",
      "_view_count": null,
      "_view_module": "@jupyter-widgets/base",
      "_view_module_version": "1.2.0",
      "_view_name": "LayoutView",
      "align_content": null,
      "align_items": null,
      "align_self": null,
      "border": null,
      "bottom": null,
      "display": null,
      "flex": null,
      "flex_flow": null,
      "grid_area": null,
      "grid_auto_columns": null,
      "grid_auto_flow": null,
      "grid_auto_rows": null,
      "grid_column": null,
      "grid_gap": null,
      "grid_row": null,
      "grid_template_areas": null,
      "grid_template_columns": null,
      "grid_template_rows": null,
      "height": null,
      "justify_content": null,
      "justify_items": null,
      "left": null,
      "margin": null,
      "max_height": null,
      "max_width": null,
      "min_height": null,
      "min_width": null,
      "object_fit": null,
      "object_position": null,
      "order": null,
      "overflow": null,
      "overflow_x": null,
      "overflow_y": null,
      "padding": null,
      "right": null,
      "top": null,
      "visibility": null,
      "width": null
     }
    },
    "9f213b132039451b9509fe2b8d51b659": {
     "model_module": "@jupyter-widgets/base",
     "model_module_version": "1.2.0",
     "model_name": "LayoutModel",
     "state": {
      "_model_module": "@jupyter-widgets/base",
      "_model_module_version": "1.2.0",
      "_model_name": "LayoutModel",
      "_view_count": null,
      "_view_module": "@jupyter-widgets/base",
      "_view_module_version": "1.2.0",
      "_view_name": "LayoutView",
      "align_content": null,
      "align_items": null,
      "align_self": null,
      "border": null,
      "bottom": null,
      "display": null,
      "flex": null,
      "flex_flow": null,
      "grid_area": null,
      "grid_auto_columns": null,
      "grid_auto_flow": null,
      "grid_auto_rows": null,
      "grid_column": null,
      "grid_gap": null,
      "grid_row": null,
      "grid_template_areas": null,
      "grid_template_columns": null,
      "grid_template_rows": null,
      "height": null,
      "justify_content": null,
      "justify_items": null,
      "left": null,
      "margin": null,
      "max_height": null,
      "max_width": null,
      "min_height": null,
      "min_width": null,
      "object_fit": null,
      "object_position": null,
      "order": null,
      "overflow": null,
      "overflow_x": null,
      "overflow_y": null,
      "padding": null,
      "right": null,
      "top": null,
      "visibility": null,
      "width": null
     }
    },
    "a62e7f1123004f1a92cd1e027db97a6d": {
     "model_module": "@jupyter-widgets/controls",
     "model_module_version": "1.5.0",
     "model_name": "HTMLModel",
     "state": {
      "_dom_classes": [],
      "_model_module": "@jupyter-widgets/controls",
      "_model_module_version": "1.5.0",
      "_model_name": "HTMLModel",
      "_view_count": null,
      "_view_module": "@jupyter-widgets/controls",
      "_view_module_version": "1.5.0",
      "_view_name": "HTMLView",
      "description": "",
      "description_tooltip": null,
      "layout": "IPY_MODEL_ef425936b2a147608b97a242df6231e0",
      "placeholder": "​",
      "style": "IPY_MODEL_0e638726ecc4464c8ccee03615835494",
      "value": " 5148/5148 [00:00&lt;00:00, 259429.02it/s]"
     }
    },
    "aa2fb0c6abf949dcae730ac730623650": {
     "model_module": "@jupyter-widgets/base",
     "model_module_version": "1.2.0",
     "model_name": "LayoutModel",
     "state": {
      "_model_module": "@jupyter-widgets/base",
      "_model_module_version": "1.2.0",
      "_model_name": "LayoutModel",
      "_view_count": null,
      "_view_module": "@jupyter-widgets/base",
      "_view_module_version": "1.2.0",
      "_view_name": "LayoutView",
      "align_content": null,
      "align_items": null,
      "align_self": null,
      "border": null,
      "bottom": null,
      "display": null,
      "flex": null,
      "flex_flow": null,
      "grid_area": null,
      "grid_auto_columns": null,
      "grid_auto_flow": null,
      "grid_auto_rows": null,
      "grid_column": null,
      "grid_gap": null,
      "grid_row": null,
      "grid_template_areas": null,
      "grid_template_columns": null,
      "grid_template_rows": null,
      "height": null,
      "justify_content": null,
      "justify_items": null,
      "left": null,
      "margin": null,
      "max_height": null,
      "max_width": null,
      "min_height": null,
      "min_width": null,
      "object_fit": null,
      "object_position": null,
      "order": null,
      "overflow": null,
      "overflow_x": null,
      "overflow_y": null,
      "padding": null,
      "right": null,
      "top": null,
      "visibility": null,
      "width": null
     }
    },
    "ae3d172991fe4f67bf939931aee25d7c": {
     "model_module": "@jupyter-widgets/base",
     "model_module_version": "1.2.0",
     "model_name": "LayoutModel",
     "state": {
      "_model_module": "@jupyter-widgets/base",
      "_model_module_version": "1.2.0",
      "_model_name": "LayoutModel",
      "_view_count": null,
      "_view_module": "@jupyter-widgets/base",
      "_view_module_version": "1.2.0",
      "_view_name": "LayoutView",
      "align_content": null,
      "align_items": null,
      "align_self": null,
      "border": null,
      "bottom": null,
      "display": null,
      "flex": null,
      "flex_flow": null,
      "grid_area": null,
      "grid_auto_columns": null,
      "grid_auto_flow": null,
      "grid_auto_rows": null,
      "grid_column": null,
      "grid_gap": null,
      "grid_row": null,
      "grid_template_areas": null,
      "grid_template_columns": null,
      "grid_template_rows": null,
      "height": null,
      "justify_content": null,
      "justify_items": null,
      "left": null,
      "margin": null,
      "max_height": null,
      "max_width": null,
      "min_height": null,
      "min_width": null,
      "object_fit": null,
      "object_position": null,
      "order": null,
      "overflow": null,
      "overflow_x": null,
      "overflow_y": null,
      "padding": null,
      "right": null,
      "top": null,
      "visibility": null,
      "width": null
     }
    },
    "b04f518269ad407ea0cbb4a35a621589": {
     "model_module": "@jupyter-widgets/controls",
     "model_module_version": "1.5.0",
     "model_name": "HTMLModel",
     "state": {
      "_dom_classes": [],
      "_model_module": "@jupyter-widgets/controls",
      "_model_module_version": "1.5.0",
      "_model_name": "HTMLModel",
      "_view_count": null,
      "_view_module": "@jupyter-widgets/controls",
      "_view_module_version": "1.5.0",
      "_view_name": "HTMLView",
      "description": "",
      "description_tooltip": null,
      "layout": "IPY_MODEL_c6eddf6f8b4544e6ab87b7166098c7a9",
      "placeholder": "​",
      "style": "IPY_MODEL_3cd8ec01698449c1816dfb088d06d1fd",
      "value": "100%"
     }
    },
    "b2a9e87464854711a7d1e860c66e67b9": {
     "model_module": "@jupyter-widgets/controls",
     "model_module_version": "1.5.0",
     "model_name": "DescriptionStyleModel",
     "state": {
      "_model_module": "@jupyter-widgets/controls",
      "_model_module_version": "1.5.0",
      "_model_name": "DescriptionStyleModel",
      "_view_count": null,
      "_view_module": "@jupyter-widgets/base",
      "_view_module_version": "1.2.0",
      "_view_name": "StyleView",
      "description_width": ""
     }
    },
    "be3c5dd26df5488191040cc1849bfc3d": {
     "model_module": "@jupyter-widgets/controls",
     "model_module_version": "1.5.0",
     "model_name": "ProgressStyleModel",
     "state": {
      "_model_module": "@jupyter-widgets/controls",
      "_model_module_version": "1.5.0",
      "_model_name": "ProgressStyleModel",
      "_view_count": null,
      "_view_module": "@jupyter-widgets/base",
      "_view_module_version": "1.2.0",
      "_view_name": "StyleView",
      "bar_color": null,
      "description_width": ""
     }
    },
    "c6eddf6f8b4544e6ab87b7166098c7a9": {
     "model_module": "@jupyter-widgets/base",
     "model_module_version": "1.2.0",
     "model_name": "LayoutModel",
     "state": {
      "_model_module": "@jupyter-widgets/base",
      "_model_module_version": "1.2.0",
      "_model_name": "LayoutModel",
      "_view_count": null,
      "_view_module": "@jupyter-widgets/base",
      "_view_module_version": "1.2.0",
      "_view_name": "LayoutView",
      "align_content": null,
      "align_items": null,
      "align_self": null,
      "border": null,
      "bottom": null,
      "display": null,
      "flex": null,
      "flex_flow": null,
      "grid_area": null,
      "grid_auto_columns": null,
      "grid_auto_flow": null,
      "grid_auto_rows": null,
      "grid_column": null,
      "grid_gap": null,
      "grid_row": null,
      "grid_template_areas": null,
      "grid_template_columns": null,
      "grid_template_rows": null,
      "height": null,
      "justify_content": null,
      "justify_items": null,
      "left": null,
      "margin": null,
      "max_height": null,
      "max_width": null,
      "min_height": null,
      "min_width": null,
      "object_fit": null,
      "object_position": null,
      "order": null,
      "overflow": null,
      "overflow_x": null,
      "overflow_y": null,
      "padding": null,
      "right": null,
      "top": null,
      "visibility": null,
      "width": null
     }
    },
    "c73134a61ac84a9c909f98bb8cc520c7": {
     "model_module": "@jupyter-widgets/controls",
     "model_module_version": "1.5.0",
     "model_name": "HTMLModel",
     "state": {
      "_dom_classes": [],
      "_model_module": "@jupyter-widgets/controls",
      "_model_module_version": "1.5.0",
      "_model_name": "HTMLModel",
      "_view_count": null,
      "_view_module": "@jupyter-widgets/controls",
      "_view_module_version": "1.5.0",
      "_view_name": "HTMLView",
      "description": "",
      "description_tooltip": null,
      "layout": "IPY_MODEL_aa2fb0c6abf949dcae730ac730623650",
      "placeholder": "​",
      "style": "IPY_MODEL_b2a9e87464854711a7d1e860c66e67b9",
      "value": " 29515/29515 [00:00&lt;00:00, 302964.38it/s]"
     }
    },
    "c926f3a1c38d4ba98d04ef3d8b2dbe04": {
     "model_module": "@jupyter-widgets/controls",
     "model_module_version": "1.5.0",
     "model_name": "DescriptionStyleModel",
     "state": {
      "_model_module": "@jupyter-widgets/controls",
      "_model_module_version": "1.5.0",
      "_model_name": "DescriptionStyleModel",
      "_view_count": null,
      "_view_module": "@jupyter-widgets/base",
      "_view_module_version": "1.2.0",
      "_view_name": "StyleView",
      "description_width": ""
     }
    },
    "cb27086bc9e745588a787ee4077e7f5c": {
     "model_module": "@jupyter-widgets/controls",
     "model_module_version": "1.5.0",
     "model_name": "FloatProgressModel",
     "state": {
      "_dom_classes": [],
      "_model_module": "@jupyter-widgets/controls",
      "_model_module_version": "1.5.0",
      "_model_name": "FloatProgressModel",
      "_view_count": null,
      "_view_module": "@jupyter-widgets/controls",
      "_view_module_version": "1.5.0",
      "_view_name": "ProgressView",
      "bar_style": "success",
      "description": "",
      "description_tooltip": null,
      "layout": "IPY_MODEL_9f213b132039451b9509fe2b8d51b659",
      "max": 26421880,
      "min": 0,
      "orientation": "horizontal",
      "style": "IPY_MODEL_0ceaac8bff70492caeafb519f4915ef4",
      "value": 26421880
     }
    },
    "d72fcad15e644d95888c95965079b1b8": {
     "model_module": "@jupyter-widgets/controls",
     "model_module_version": "1.5.0",
     "model_name": "HTMLModel",
     "state": {
      "_dom_classes": [],
      "_model_module": "@jupyter-widgets/controls",
      "_model_module_version": "1.5.0",
      "_model_name": "HTMLModel",
      "_view_count": null,
      "_view_module": "@jupyter-widgets/controls",
      "_view_module_version": "1.5.0",
      "_view_name": "HTMLView",
      "description": "",
      "description_tooltip": null,
      "layout": "IPY_MODEL_4208152d0d1045099d314b18c62190b9",
      "placeholder": "​",
      "style": "IPY_MODEL_1015b46f8e5148a598ad7888dc2f6ffa",
      "value": "100%"
     }
    },
    "dc0a64431c74427f81ca1c1fba26a9a5": {
     "model_module": "@jupyter-widgets/base",
     "model_module_version": "1.2.0",
     "model_name": "LayoutModel",
     "state": {
      "_model_module": "@jupyter-widgets/base",
      "_model_module_version": "1.2.0",
      "_model_name": "LayoutModel",
      "_view_count": null,
      "_view_module": "@jupyter-widgets/base",
      "_view_module_version": "1.2.0",
      "_view_name": "LayoutView",
      "align_content": null,
      "align_items": null,
      "align_self": null,
      "border": null,
      "bottom": null,
      "display": null,
      "flex": null,
      "flex_flow": null,
      "grid_area": null,
      "grid_auto_columns": null,
      "grid_auto_flow": null,
      "grid_auto_rows": null,
      "grid_column": null,
      "grid_gap": null,
      "grid_row": null,
      "grid_template_areas": null,
      "grid_template_columns": null,
      "grid_template_rows": null,
      "height": null,
      "justify_content": null,
      "justify_items": null,
      "left": null,
      "margin": null,
      "max_height": null,
      "max_width": null,
      "min_height": null,
      "min_width": null,
      "object_fit": null,
      "object_position": null,
      "order": null,
      "overflow": null,
      "overflow_x": null,
      "overflow_y": null,
      "padding": null,
      "right": null,
      "top": null,
      "visibility": null,
      "width": null
     }
    },
    "de2b0a6c6d2a4e998df24fb522df7980": {
     "model_module": "@jupyter-widgets/base",
     "model_module_version": "1.2.0",
     "model_name": "LayoutModel",
     "state": {
      "_model_module": "@jupyter-widgets/base",
      "_model_module_version": "1.2.0",
      "_model_name": "LayoutModel",
      "_view_count": null,
      "_view_module": "@jupyter-widgets/base",
      "_view_module_version": "1.2.0",
      "_view_name": "LayoutView",
      "align_content": null,
      "align_items": null,
      "align_self": null,
      "border": null,
      "bottom": null,
      "display": null,
      "flex": null,
      "flex_flow": null,
      "grid_area": null,
      "grid_auto_columns": null,
      "grid_auto_flow": null,
      "grid_auto_rows": null,
      "grid_column": null,
      "grid_gap": null,
      "grid_row": null,
      "grid_template_areas": null,
      "grid_template_columns": null,
      "grid_template_rows": null,
      "height": null,
      "justify_content": null,
      "justify_items": null,
      "left": null,
      "margin": null,
      "max_height": null,
      "max_width": null,
      "min_height": null,
      "min_width": null,
      "object_fit": null,
      "object_position": null,
      "order": null,
      "overflow": null,
      "overflow_x": null,
      "overflow_y": null,
      "padding": null,
      "right": null,
      "top": null,
      "visibility": null,
      "width": null
     }
    },
    "e66dcec094e34e21a608310c1d1ee371": {
     "model_module": "@jupyter-widgets/controls",
     "model_module_version": "1.5.0",
     "model_name": "ProgressStyleModel",
     "state": {
      "_model_module": "@jupyter-widgets/controls",
      "_model_module_version": "1.5.0",
      "_model_name": "ProgressStyleModel",
      "_view_count": null,
      "_view_module": "@jupyter-widgets/base",
      "_view_module_version": "1.2.0",
      "_view_name": "StyleView",
      "bar_color": null,
      "description_width": ""
     }
    },
    "e7f0ccf56b5e435a81bea9249b526ac4": {
     "model_module": "@jupyter-widgets/controls",
     "model_module_version": "1.5.0",
     "model_name": "DescriptionStyleModel",
     "state": {
      "_model_module": "@jupyter-widgets/controls",
      "_model_module_version": "1.5.0",
      "_model_name": "DescriptionStyleModel",
      "_view_count": null,
      "_view_module": "@jupyter-widgets/base",
      "_view_module_version": "1.2.0",
      "_view_name": "StyleView",
      "description_width": ""
     }
    },
    "eab7ac64e066499e80abb950ad93ef6b": {
     "model_module": "@jupyter-widgets/base",
     "model_module_version": "1.2.0",
     "model_name": "LayoutModel",
     "state": {
      "_model_module": "@jupyter-widgets/base",
      "_model_module_version": "1.2.0",
      "_model_name": "LayoutModel",
      "_view_count": null,
      "_view_module": "@jupyter-widgets/base",
      "_view_module_version": "1.2.0",
      "_view_name": "LayoutView",
      "align_content": null,
      "align_items": null,
      "align_self": null,
      "border": null,
      "bottom": null,
      "display": null,
      "flex": null,
      "flex_flow": null,
      "grid_area": null,
      "grid_auto_columns": null,
      "grid_auto_flow": null,
      "grid_auto_rows": null,
      "grid_column": null,
      "grid_gap": null,
      "grid_row": null,
      "grid_template_areas": null,
      "grid_template_columns": null,
      "grid_template_rows": null,
      "height": null,
      "justify_content": null,
      "justify_items": null,
      "left": null,
      "margin": null,
      "max_height": null,
      "max_width": null,
      "min_height": null,
      "min_width": null,
      "object_fit": null,
      "object_position": null,
      "order": null,
      "overflow": null,
      "overflow_x": null,
      "overflow_y": null,
      "padding": null,
      "right": null,
      "top": null,
      "visibility": null,
      "width": null
     }
    },
    "ef425936b2a147608b97a242df6231e0": {
     "model_module": "@jupyter-widgets/base",
     "model_module_version": "1.2.0",
     "model_name": "LayoutModel",
     "state": {
      "_model_module": "@jupyter-widgets/base",
      "_model_module_version": "1.2.0",
      "_model_name": "LayoutModel",
      "_view_count": null,
      "_view_module": "@jupyter-widgets/base",
      "_view_module_version": "1.2.0",
      "_view_name": "LayoutView",
      "align_content": null,
      "align_items": null,
      "align_self": null,
      "border": null,
      "bottom": null,
      "display": null,
      "flex": null,
      "flex_flow": null,
      "grid_area": null,
      "grid_auto_columns": null,
      "grid_auto_flow": null,
      "grid_auto_rows": null,
      "grid_column": null,
      "grid_gap": null,
      "grid_row": null,
      "grid_template_areas": null,
      "grid_template_columns": null,
      "grid_template_rows": null,
      "height": null,
      "justify_content": null,
      "justify_items": null,
      "left": null,
      "margin": null,
      "max_height": null,
      "max_width": null,
      "min_height": null,
      "min_width": null,
      "object_fit": null,
      "object_position": null,
      "order": null,
      "overflow": null,
      "overflow_x": null,
      "overflow_y": null,
      "padding": null,
      "right": null,
      "top": null,
      "visibility": null,
      "width": null
     }
    },
    "efe9a164955047e0b14a1151b97d9957": {
     "model_module": "@jupyter-widgets/base",
     "model_module_version": "1.2.0",
     "model_name": "LayoutModel",
     "state": {
      "_model_module": "@jupyter-widgets/base",
      "_model_module_version": "1.2.0",
      "_model_name": "LayoutModel",
      "_view_count": null,
      "_view_module": "@jupyter-widgets/base",
      "_view_module_version": "1.2.0",
      "_view_name": "LayoutView",
      "align_content": null,
      "align_items": null,
      "align_self": null,
      "border": null,
      "bottom": null,
      "display": null,
      "flex": null,
      "flex_flow": null,
      "grid_area": null,
      "grid_auto_columns": null,
      "grid_auto_flow": null,
      "grid_auto_rows": null,
      "grid_column": null,
      "grid_gap": null,
      "grid_row": null,
      "grid_template_areas": null,
      "grid_template_columns": null,
      "grid_template_rows": null,
      "height": null,
      "justify_content": null,
      "justify_items": null,
      "left": null,
      "margin": null,
      "max_height": null,
      "max_width": null,
      "min_height": null,
      "min_width": null,
      "object_fit": null,
      "object_position": null,
      "order": null,
      "overflow": null,
      "overflow_x": null,
      "overflow_y": null,
      "padding": null,
      "right": null,
      "top": null,
      "visibility": null,
      "width": null
     }
    },
    "f4baa13c311b4214b34b6f4b15d11dd8": {
     "model_module": "@jupyter-widgets/controls",
     "model_module_version": "1.5.0",
     "model_name": "HBoxModel",
     "state": {
      "_dom_classes": [],
      "_model_module": "@jupyter-widgets/controls",
      "_model_module_version": "1.5.0",
      "_model_name": "HBoxModel",
      "_view_count": null,
      "_view_module": "@jupyter-widgets/controls",
      "_view_module_version": "1.5.0",
      "_view_name": "HBoxView",
      "box_style": "",
      "children": [
       "IPY_MODEL_49556a52cad84377a63c8364ec35e896",
       "IPY_MODEL_cb27086bc9e745588a787ee4077e7f5c",
       "IPY_MODEL_8892b365933e42ce8dbcfb55c65f2a75"
      ],
      "layout": "IPY_MODEL_efe9a164955047e0b14a1151b97d9957"
     }
    },
    "f8d5c48e986d4e5cba0dc882f557db94": {
     "model_module": "@jupyter-widgets/base",
     "model_module_version": "1.2.0",
     "model_name": "LayoutModel",
     "state": {
      "_model_module": "@jupyter-widgets/base",
      "_model_module_version": "1.2.0",
      "_model_name": "LayoutModel",
      "_view_count": null,
      "_view_module": "@jupyter-widgets/base",
      "_view_module_version": "1.2.0",
      "_view_name": "LayoutView",
      "align_content": null,
      "align_items": null,
      "align_self": null,
      "border": null,
      "bottom": null,
      "display": null,
      "flex": null,
      "flex_flow": null,
      "grid_area": null,
      "grid_auto_columns": null,
      "grid_auto_flow": null,
      "grid_auto_rows": null,
      "grid_column": null,
      "grid_gap": null,
      "grid_row": null,
      "grid_template_areas": null,
      "grid_template_columns": null,
      "grid_template_rows": null,
      "height": null,
      "justify_content": null,
      "justify_items": null,
      "left": null,
      "margin": null,
      "max_height": null,
      "max_width": null,
      "min_height": null,
      "min_width": null,
      "object_fit": null,
      "object_position": null,
      "order": null,
      "overflow": null,
      "overflow_x": null,
      "overflow_y": null,
      "padding": null,
      "right": null,
      "top": null,
      "visibility": null,
      "width": null
     }
    }
   }
  }
 },
 "nbformat": 4,
 "nbformat_minor": 5
}
