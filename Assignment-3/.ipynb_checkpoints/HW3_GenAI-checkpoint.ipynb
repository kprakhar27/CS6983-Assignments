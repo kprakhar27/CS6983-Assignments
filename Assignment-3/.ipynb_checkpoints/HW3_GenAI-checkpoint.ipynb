{
  "nbformat": 4,
  "nbformat_minor": 0,
  "metadata": {
    "colab": {
      "provenance": []
    },
    "kernelspec": {
      "name": "python3",
      "display_name": "Python 3"
    },
    "language_info": {
      "name": "python"
    }
  },
  "cells": [
    {
      "cell_type": "markdown",
      "source": [
        "# Imports"
      ],
      "metadata": {
        "id": "4A_Xsz6Sb8Hj"
      }
    },
    {
      "cell_type": "code",
      "source": [
        "import torch\n",
        "import torch.nn as nn\n",
        "from random import shuffle\n",
        "import numpy as np\n",
        "from sklearn.metrics import roc_curve, auc\n",
        "import matplotlib.pyplot as plt\n",
        "\n",
        "from torchvision.datasets import FashionMNIST\n",
        "import torchvision.transforms as T"
      ],
      "metadata": {
        "id": "1qLcTPTKb1IB"
      },
      "execution_count": null,
      "outputs": []
    },
    {
      "cell_type": "markdown",
      "source": [
        "# Function to load fmnist dataset"
      ],
      "metadata": {
        "id": "7NmwxsFvbjjt"
      }
    },
    {
      "cell_type": "code",
      "source": [
        "fmnist_labels = {\n",
        "    0: \"T-shirt/top\",\n",
        "    1: \"Trouser\",\n",
        "    2: \"Pullover\",\n",
        "    3: \"Dress\",\n",
        "    4: \"Coat\",\n",
        "    5: \"Sandal\",\n",
        "    6: \"Shirt\",\n",
        "    7: \"Sneaker\",\n",
        "    8: \"Bag\",\n",
        "    9: \"Ankle boot\"\n",
        "}\n",
        "\n",
        "def load_fmnist_torch(root=\"./data\", transform=None, download=True):\n",
        "\n",
        "    if transform == None:\n",
        "        transform = T.ToTensor()\n",
        "\n",
        "    train_set = FashionMNIST(root=root,  transform=transform, download=download, train=True)\n",
        "    test_set = FashionMNIST(root=root,  transform=transform, download=download, train=False)\n",
        "\n",
        "    # Each item in this dictionary is a torch Dataset object\n",
        "    # To feed the data into a model, you may have to use a DataLoader\n",
        "    return {\"train\": train_set, \"test\": test_set}"
      ],
      "metadata": {
        "id": "GucWTQfJbhfC"
      },
      "execution_count": null,
      "outputs": []
    },
    {
      "cell_type": "markdown",
      "source": [
        "#  SmallCNN Model"
      ],
      "metadata": {
        "id": "gUHiN-hTbnqV"
      }
    },
    {
      "cell_type": "code",
      "source": [
        "class SmallCNN(nn.Module):\n",
        "\n",
        "    def __init__(self):\n",
        "        super(SmallCNN, self).__init__()\n",
        "\n",
        "        self.layer1 = nn.Sequential(\n",
        "            nn.Conv2d(in_channels=1, out_channels=32, kernel_size=3, padding=1),\n",
        "            nn.BatchNorm2d(32),\n",
        "            nn.ReLU(),\n",
        "            nn.MaxPool2d(kernel_size=2, stride=2)\n",
        "        )\n",
        "\n",
        "        self.layer2 = nn.Sequential(\n",
        "            nn.Conv2d(in_channels=32, out_channels=64, kernel_size=3),\n",
        "            nn.BatchNorm2d(64),\n",
        "            nn.ReLU(),\n",
        "            nn.MaxPool2d(2)\n",
        "        )\n",
        "        self.fc1 = nn.Linear(in_features=64*6*6, out_features=600)\n",
        "        self.drop = nn.Dropout(0.25)\n",
        "        self.fc2 = nn.Linear(in_features=600, out_features=120)\n",
        "        self.fc3 = nn.Linear(in_features=120, out_features=10)\n",
        "\n",
        "    def forward(self, x):\n",
        "        out = self.layer1(x)\n",
        "        out = self.layer2(out)\n",
        "        out = out.view(out.size(0), -1)\n",
        "        out = self.fc1(out)\n",
        "        out = nn.functional.relu(out)\n",
        "        out = self.drop(out)\n",
        "        out = self.fc2(out)\n",
        "        out = nn.functional.relu(out)\n",
        "        out = self.fc3(out)\n",
        "        return out"
      ],
      "metadata": {
        "id": "RHVUK7vgbhhe"
      },
      "execution_count": null,
      "outputs": []
    },
    {
      "cell_type": "code",
      "source": [
        "# Check if CUDA is available\n",
        "if torch.cuda.is_available():\n",
        "    device = torch.device('cuda')\n",
        "    print(\"CUDA available! Training on GPU.\", flush=True)\n",
        "else:\n",
        "    device = torch.device('cpu')\n",
        "    print(\"CUDA NOT available... Training on CPU.\", flush=True)"
      ],
      "metadata": {
        "colab": {
          "base_uri": "https://localhost:8080/"
        },
        "id": "diXF3jJbbu2W",
        "outputId": "e9b30620-85d4-4adc-ce6f-c03a6c19a075"
      },
      "execution_count": null,
      "outputs": [
        {
          "output_type": "stream",
          "name": "stdout",
          "text": [
            "CUDA NOT available... Training on CPU.\n"
          ]
        }
      ]
    },
    {
      "cell_type": "markdown",
      "source": [
        "# Problem 1"
      ],
      "metadata": {
        "id": "UsAtRQl8brl-"
      }
    },
    {
      "cell_type": "code",
      "source": [
        "# Load FMNIST dataset\n",
        "fmnist = load_fmnist_torch()\n",
        "fmnist_train = fmnist['train']\n",
        "fmnist_test = fmnist['test']"
      ],
      "metadata": {
        "colab": {
          "base_uri": "https://localhost:8080/"
        },
        "id": "FnYJ0KtscPbH",
        "outputId": "340a7eb8-f2b0-4bde-941a-0af5ab40a1d0"
      },
      "execution_count": null,
      "outputs": [
        {
          "output_type": "stream",
          "name": "stdout",
          "text": [
            "Downloading http://fashion-mnist.s3-website.eu-central-1.amazonaws.com/train-images-idx3-ubyte.gz\n",
            "Downloading http://fashion-mnist.s3-website.eu-central-1.amazonaws.com/train-images-idx3-ubyte.gz to ./data/FashionMNIST/raw/train-images-idx3-ubyte.gz\n"
          ]
        },
        {
          "output_type": "stream",
          "name": "stderr",
          "text": [
            "100%|██████████| 26421880/26421880 [00:02<00:00, 9358297.34it/s] \n"
          ]
        },
        {
          "output_type": "stream",
          "name": "stdout",
          "text": [
            "Extracting ./data/FashionMNIST/raw/train-images-idx3-ubyte.gz to ./data/FashionMNIST/raw\n",
            "\n",
            "Downloading http://fashion-mnist.s3-website.eu-central-1.amazonaws.com/train-labels-idx1-ubyte.gz\n",
            "Downloading http://fashion-mnist.s3-website.eu-central-1.amazonaws.com/train-labels-idx1-ubyte.gz to ./data/FashionMNIST/raw/train-labels-idx1-ubyte.gz\n"
          ]
        },
        {
          "output_type": "stream",
          "name": "stderr",
          "text": [
            "100%|██████████| 29515/29515 [00:00<00:00, 208287.57it/s]\n"
          ]
        },
        {
          "output_type": "stream",
          "name": "stdout",
          "text": [
            "Extracting ./data/FashionMNIST/raw/train-labels-idx1-ubyte.gz to ./data/FashionMNIST/raw\n",
            "\n",
            "Downloading http://fashion-mnist.s3-website.eu-central-1.amazonaws.com/t10k-images-idx3-ubyte.gz\n",
            "Downloading http://fashion-mnist.s3-website.eu-central-1.amazonaws.com/t10k-images-idx3-ubyte.gz to ./data/FashionMNIST/raw/t10k-images-idx3-ubyte.gz\n"
          ]
        },
        {
          "output_type": "stream",
          "name": "stderr",
          "text": [
            "100%|██████████| 4422102/4422102 [00:02<00:00, 1502782.21it/s]\n"
          ]
        },
        {
          "output_type": "stream",
          "name": "stdout",
          "text": [
            "Extracting ./data/FashionMNIST/raw/t10k-images-idx3-ubyte.gz to ./data/FashionMNIST/raw\n",
            "\n",
            "Downloading http://fashion-mnist.s3-website.eu-central-1.amazonaws.com/t10k-labels-idx1-ubyte.gz\n",
            "Downloading http://fashion-mnist.s3-website.eu-central-1.amazonaws.com/t10k-labels-idx1-ubyte.gz to ./data/FashionMNIST/raw/t10k-labels-idx1-ubyte.gz\n"
          ]
        },
        {
          "output_type": "stream",
          "name": "stderr",
          "text": [
            "100%|██████████| 5148/5148 [00:00<00:00, 9537224.82it/s]"
          ]
        },
        {
          "output_type": "stream",
          "name": "stdout",
          "text": [
            "Extracting ./data/FashionMNIST/raw/t10k-labels-idx1-ubyte.gz to ./data/FashionMNIST/raw\n",
            "\n"
          ]
        },
        {
          "output_type": "stream",
          "name": "stderr",
          "text": [
            "\n"
          ]
        }
      ]
    },
    {
      "cell_type": "code",
      "source": [
        "# TODO: Load and train mdoel"
      ],
      "metadata": {
        "id": "Do68GkX3bhj6"
      },
      "execution_count": null,
      "outputs": []
    },
    {
      "cell_type": "code",
      "source": [
        "# TODO: Test mdoel"
      ],
      "metadata": {
        "id": "MXlcZTs4bhmS"
      },
      "execution_count": null,
      "outputs": []
    },
    {
      "cell_type": "code",
      "source": [
        "# TODO: Plot results"
      ],
      "metadata": {
        "id": "D3Em79Dlbhoo"
      },
      "execution_count": null,
      "outputs": []
    },
    {
      "cell_type": "code",
      "source": [
        "# TODO: Comment on Observations"
      ],
      "metadata": {
        "id": "aGnDzgCPbhq0"
      },
      "execution_count": null,
      "outputs": []
    },
    {
      "cell_type": "code",
      "source": [],
      "metadata": {
        "id": "wxZDglZzbhs5"
      },
      "execution_count": null,
      "outputs": []
    },
    {
      "cell_type": "markdown",
      "source": [
        "# Problem 2"
      ],
      "metadata": {
        "id": "AWqAToZ6bjE9"
      }
    },
    {
      "cell_type": "code",
      "source": [
        "from transformers import AutoModelForCausalLM, AutoTokenizer, Trainer, TrainingArguments\n",
        "import pandas as pd\n",
        "from sklearn.model_selection import train_test_split\n"
      ],
      "metadata": {
        "id": "LLTAANNVcj5K"
      },
      "execution_count": null,
      "outputs": []
    },
    {
      "cell_type": "code",
      "source": [
        "# Load the dataset\n",
        "data = pd.read_csv('Email_data.csv')  # Replace with the actual path\n",
        "data.head()"
      ],
      "metadata": {
        "colab": {
          "base_uri": "https://localhost:8080/",
          "height": 206
        },
        "id": "u4NztTO-dFNz",
        "outputId": "4501150e-de96-4345-9ccb-00d78939c0ee"
      },
      "execution_count": null,
      "outputs": [
        {
          "output_type": "execute_result",
          "data": {
            "text/plain": [
              "   Unnamed: 0                                        file  \\\n",
              "0      427616                     shackleton-s/sent/1912.   \n",
              "1      108773                    farmer-d/logistics/1066.   \n",
              "2      355471                  parks-j/deleted_items/202.   \n",
              "3      457837  stokley-c/chris_stokley/iso/client_rep/41.   \n",
              "4      124910               germany-c/all_documents/1174.   \n",
              "\n",
              "                                             message  \n",
              "0  Message-ID: <21013688.1075844564560.JavaMail.e...  \n",
              "1  Message-ID: <22688499.1075854130303.JavaMail.e...  \n",
              "2  Message-ID: <27817771.1075841359502.JavaMail.e...  \n",
              "3  Message-ID: <10695160.1075858510449.JavaMail.e...  \n",
              "4  Message-ID: <27819143.1075853689038.JavaMail.e...  "
            ],
            "text/html": [
              "\n",
              "  <div id=\"df-c3a2577f-2ad2-49df-a2cb-3270fe509074\" class=\"colab-df-container\">\n",
              "    <div>\n",
              "<style scoped>\n",
              "    .dataframe tbody tr th:only-of-type {\n",
              "        vertical-align: middle;\n",
              "    }\n",
              "\n",
              "    .dataframe tbody tr th {\n",
              "        vertical-align: top;\n",
              "    }\n",
              "\n",
              "    .dataframe thead th {\n",
              "        text-align: right;\n",
              "    }\n",
              "</style>\n",
              "<table border=\"1\" class=\"dataframe\">\n",
              "  <thead>\n",
              "    <tr style=\"text-align: right;\">\n",
              "      <th></th>\n",
              "      <th>Unnamed: 0</th>\n",
              "      <th>file</th>\n",
              "      <th>message</th>\n",
              "    </tr>\n",
              "  </thead>\n",
              "  <tbody>\n",
              "    <tr>\n",
              "      <th>0</th>\n",
              "      <td>427616</td>\n",
              "      <td>shackleton-s/sent/1912.</td>\n",
              "      <td>Message-ID: &lt;21013688.1075844564560.JavaMail.e...</td>\n",
              "    </tr>\n",
              "    <tr>\n",
              "      <th>1</th>\n",
              "      <td>108773</td>\n",
              "      <td>farmer-d/logistics/1066.</td>\n",
              "      <td>Message-ID: &lt;22688499.1075854130303.JavaMail.e...</td>\n",
              "    </tr>\n",
              "    <tr>\n",
              "      <th>2</th>\n",
              "      <td>355471</td>\n",
              "      <td>parks-j/deleted_items/202.</td>\n",
              "      <td>Message-ID: &lt;27817771.1075841359502.JavaMail.e...</td>\n",
              "    </tr>\n",
              "    <tr>\n",
              "      <th>3</th>\n",
              "      <td>457837</td>\n",
              "      <td>stokley-c/chris_stokley/iso/client_rep/41.</td>\n",
              "      <td>Message-ID: &lt;10695160.1075858510449.JavaMail.e...</td>\n",
              "    </tr>\n",
              "    <tr>\n",
              "      <th>4</th>\n",
              "      <td>124910</td>\n",
              "      <td>germany-c/all_documents/1174.</td>\n",
              "      <td>Message-ID: &lt;27819143.1075853689038.JavaMail.e...</td>\n",
              "    </tr>\n",
              "  </tbody>\n",
              "</table>\n",
              "</div>\n",
              "    <div class=\"colab-df-buttons\">\n",
              "\n",
              "  <div class=\"colab-df-container\">\n",
              "    <button class=\"colab-df-convert\" onclick=\"convertToInteractive('df-c3a2577f-2ad2-49df-a2cb-3270fe509074')\"\n",
              "            title=\"Convert this dataframe to an interactive table.\"\n",
              "            style=\"display:none;\">\n",
              "\n",
              "  <svg xmlns=\"http://www.w3.org/2000/svg\" height=\"24px\" viewBox=\"0 -960 960 960\">\n",
              "    <path d=\"M120-120v-720h720v720H120Zm60-500h600v-160H180v160Zm220 220h160v-160H400v160Zm0 220h160v-160H400v160ZM180-400h160v-160H180v160Zm440 0h160v-160H620v160ZM180-180h160v-160H180v160Zm440 0h160v-160H620v160Z\"/>\n",
              "  </svg>\n",
              "    </button>\n",
              "\n",
              "  <style>\n",
              "    .colab-df-container {\n",
              "      display:flex;\n",
              "      gap: 12px;\n",
              "    }\n",
              "\n",
              "    .colab-df-convert {\n",
              "      background-color: #E8F0FE;\n",
              "      border: none;\n",
              "      border-radius: 50%;\n",
              "      cursor: pointer;\n",
              "      display: none;\n",
              "      fill: #1967D2;\n",
              "      height: 32px;\n",
              "      padding: 0 0 0 0;\n",
              "      width: 32px;\n",
              "    }\n",
              "\n",
              "    .colab-df-convert:hover {\n",
              "      background-color: #E2EBFA;\n",
              "      box-shadow: 0px 1px 2px rgba(60, 64, 67, 0.3), 0px 1px 3px 1px rgba(60, 64, 67, 0.15);\n",
              "      fill: #174EA6;\n",
              "    }\n",
              "\n",
              "    .colab-df-buttons div {\n",
              "      margin-bottom: 4px;\n",
              "    }\n",
              "\n",
              "    [theme=dark] .colab-df-convert {\n",
              "      background-color: #3B4455;\n",
              "      fill: #D2E3FC;\n",
              "    }\n",
              "\n",
              "    [theme=dark] .colab-df-convert:hover {\n",
              "      background-color: #434B5C;\n",
              "      box-shadow: 0px 1px 3px 1px rgba(0, 0, 0, 0.15);\n",
              "      filter: drop-shadow(0px 1px 2px rgba(0, 0, 0, 0.3));\n",
              "      fill: #FFFFFF;\n",
              "    }\n",
              "  </style>\n",
              "\n",
              "    <script>\n",
              "      const buttonEl =\n",
              "        document.querySelector('#df-c3a2577f-2ad2-49df-a2cb-3270fe509074 button.colab-df-convert');\n",
              "      buttonEl.style.display =\n",
              "        google.colab.kernel.accessAllowed ? 'block' : 'none';\n",
              "\n",
              "      async function convertToInteractive(key) {\n",
              "        const element = document.querySelector('#df-c3a2577f-2ad2-49df-a2cb-3270fe509074');\n",
              "        const dataTable =\n",
              "          await google.colab.kernel.invokeFunction('convertToInteractive',\n",
              "                                                    [key], {});\n",
              "        if (!dataTable) return;\n",
              "\n",
              "        const docLinkHtml = 'Like what you see? Visit the ' +\n",
              "          '<a target=\"_blank\" href=https://colab.research.google.com/notebooks/data_table.ipynb>data table notebook</a>'\n",
              "          + ' to learn more about interactive tables.';\n",
              "        element.innerHTML = '';\n",
              "        dataTable['output_type'] = 'display_data';\n",
              "        await google.colab.output.renderOutput(dataTable, element);\n",
              "        const docLink = document.createElement('div');\n",
              "        docLink.innerHTML = docLinkHtml;\n",
              "        element.appendChild(docLink);\n",
              "      }\n",
              "    </script>\n",
              "  </div>\n",
              "\n",
              "\n",
              "<div id=\"df-544b2b46-6cd3-40af-a3d1-b457c1383f91\">\n",
              "  <button class=\"colab-df-quickchart\" onclick=\"quickchart('df-544b2b46-6cd3-40af-a3d1-b457c1383f91')\"\n",
              "            title=\"Suggest charts\"\n",
              "            style=\"display:none;\">\n",
              "\n",
              "<svg xmlns=\"http://www.w3.org/2000/svg\" height=\"24px\"viewBox=\"0 0 24 24\"\n",
              "     width=\"24px\">\n",
              "    <g>\n",
              "        <path d=\"M19 3H5c-1.1 0-2 .9-2 2v14c0 1.1.9 2 2 2h14c1.1 0 2-.9 2-2V5c0-1.1-.9-2-2-2zM9 17H7v-7h2v7zm4 0h-2V7h2v10zm4 0h-2v-4h2v4z\"/>\n",
              "    </g>\n",
              "</svg>\n",
              "  </button>\n",
              "\n",
              "<style>\n",
              "  .colab-df-quickchart {\n",
              "      --bg-color: #E8F0FE;\n",
              "      --fill-color: #1967D2;\n",
              "      --hover-bg-color: #E2EBFA;\n",
              "      --hover-fill-color: #174EA6;\n",
              "      --disabled-fill-color: #AAA;\n",
              "      --disabled-bg-color: #DDD;\n",
              "  }\n",
              "\n",
              "  [theme=dark] .colab-df-quickchart {\n",
              "      --bg-color: #3B4455;\n",
              "      --fill-color: #D2E3FC;\n",
              "      --hover-bg-color: #434B5C;\n",
              "      --hover-fill-color: #FFFFFF;\n",
              "      --disabled-bg-color: #3B4455;\n",
              "      --disabled-fill-color: #666;\n",
              "  }\n",
              "\n",
              "  .colab-df-quickchart {\n",
              "    background-color: var(--bg-color);\n",
              "    border: none;\n",
              "    border-radius: 50%;\n",
              "    cursor: pointer;\n",
              "    display: none;\n",
              "    fill: var(--fill-color);\n",
              "    height: 32px;\n",
              "    padding: 0;\n",
              "    width: 32px;\n",
              "  }\n",
              "\n",
              "  .colab-df-quickchart:hover {\n",
              "    background-color: var(--hover-bg-color);\n",
              "    box-shadow: 0 1px 2px rgba(60, 64, 67, 0.3), 0 1px 3px 1px rgba(60, 64, 67, 0.15);\n",
              "    fill: var(--button-hover-fill-color);\n",
              "  }\n",
              "\n",
              "  .colab-df-quickchart-complete:disabled,\n",
              "  .colab-df-quickchart-complete:disabled:hover {\n",
              "    background-color: var(--disabled-bg-color);\n",
              "    fill: var(--disabled-fill-color);\n",
              "    box-shadow: none;\n",
              "  }\n",
              "\n",
              "  .colab-df-spinner {\n",
              "    border: 2px solid var(--fill-color);\n",
              "    border-color: transparent;\n",
              "    border-bottom-color: var(--fill-color);\n",
              "    animation:\n",
              "      spin 1s steps(1) infinite;\n",
              "  }\n",
              "\n",
              "  @keyframes spin {\n",
              "    0% {\n",
              "      border-color: transparent;\n",
              "      border-bottom-color: var(--fill-color);\n",
              "      border-left-color: var(--fill-color);\n",
              "    }\n",
              "    20% {\n",
              "      border-color: transparent;\n",
              "      border-left-color: var(--fill-color);\n",
              "      border-top-color: var(--fill-color);\n",
              "    }\n",
              "    30% {\n",
              "      border-color: transparent;\n",
              "      border-left-color: var(--fill-color);\n",
              "      border-top-color: var(--fill-color);\n",
              "      border-right-color: var(--fill-color);\n",
              "    }\n",
              "    40% {\n",
              "      border-color: transparent;\n",
              "      border-right-color: var(--fill-color);\n",
              "      border-top-color: var(--fill-color);\n",
              "    }\n",
              "    60% {\n",
              "      border-color: transparent;\n",
              "      border-right-color: var(--fill-color);\n",
              "    }\n",
              "    80% {\n",
              "      border-color: transparent;\n",
              "      border-right-color: var(--fill-color);\n",
              "      border-bottom-color: var(--fill-color);\n",
              "    }\n",
              "    90% {\n",
              "      border-color: transparent;\n",
              "      border-bottom-color: var(--fill-color);\n",
              "    }\n",
              "  }\n",
              "</style>\n",
              "\n",
              "  <script>\n",
              "    async function quickchart(key) {\n",
              "      const quickchartButtonEl =\n",
              "        document.querySelector('#' + key + ' button');\n",
              "      quickchartButtonEl.disabled = true;  // To prevent multiple clicks.\n",
              "      quickchartButtonEl.classList.add('colab-df-spinner');\n",
              "      try {\n",
              "        const charts = await google.colab.kernel.invokeFunction(\n",
              "            'suggestCharts', [key], {});\n",
              "      } catch (error) {\n",
              "        console.error('Error during call to suggestCharts:', error);\n",
              "      }\n",
              "      quickchartButtonEl.classList.remove('colab-df-spinner');\n",
              "      quickchartButtonEl.classList.add('colab-df-quickchart-complete');\n",
              "    }\n",
              "    (() => {\n",
              "      let quickchartButtonEl =\n",
              "        document.querySelector('#df-544b2b46-6cd3-40af-a3d1-b457c1383f91 button');\n",
              "      quickchartButtonEl.style.display =\n",
              "        google.colab.kernel.accessAllowed ? 'block' : 'none';\n",
              "    })();\n",
              "  </script>\n",
              "</div>\n",
              "\n",
              "    </div>\n",
              "  </div>\n"
            ],
            "application/vnd.google.colaboratory.intrinsic+json": {
              "type": "dataframe",
              "variable_name": "data",
              "summary": "{\n  \"name\": \"data\",\n  \"rows\": 1500,\n  \"fields\": [\n    {\n      \"column\": \"Unnamed: 0\",\n      \"properties\": {\n        \"dtype\": \"number\",\n        \"std\": 150484,\n        \"min\": 102,\n        \"max\": 517379,\n        \"num_unique_values\": 1500,\n        \"samples\": [\n          366864,\n          459807,\n          199594\n        ],\n        \"semantic_type\": \"\",\n        \"description\": \"\"\n      }\n    },\n    {\n      \"column\": \"file\",\n      \"properties\": {\n        \"dtype\": \"string\",\n        \"num_unique_values\": 1500,\n        \"samples\": [\n          \"quenet-j/sent/59.\",\n          \"storey-g/netco/18.\",\n          \"kaminski-v/_sent_mail/1630.\"\n        ],\n        \"semantic_type\": \"\",\n        \"description\": \"\"\n      }\n    },\n    {\n      \"column\": \"message\",\n      \"properties\": {\n        \"dtype\": \"string\",\n        \"num_unique_values\": 1500,\n        \"samples\": [\n          \"Message-ID: <11919555.1075857799736.JavaMail.evans@thyme>\\nDate: Mon, 11 Dec 2000 03:19:00 -0800 (PST)\\nFrom: joe.quenet@enron.com\\nTo: kevino2@unocal.com\\nSubject: Re: FW: (no subject)\\nMime-Version: 1.0\\nContent-Type: text/plain; charset=us-ascii\\nContent-Transfer-Encoding: 7bit\\nX-From: Joe Quenet\\nX-To: \\\"O'Keefe, Kevin\\\" <kevino2@unocal.com>\\nX-cc: \\nX-bcc: \\nX-Folder: \\\\Joseph_Quenet_Dec2000\\\\Notes Folders\\\\Sent\\nX-Origin: Quenet-J\\nX-FileName: jquenet.nsf\\n\\ngood ole \\\"cop humor\\\" .....!\\n]\",\n          \"Message-ID: <3895338.1075841598194.JavaMail.evans@thyme>\\nDate: Thu, 13 Dec 2001 09:02:03 -0800 (PST)\\nFrom: tori.kuykendall@enron.com\\nTo: matt.smith@enron.com, geoff.storey@enron.com\\nSubject: RE: needed directories\\nCc: keith.holst@enron.com\\nMime-Version: 1.0\\nContent-Type: text/plain; charset=us-ascii\\nContent-Transfer-Encoding: 7bit\\nBcc: keith.holst@enron.com\\nX-From: Kuykendall, Tori </O=ENRON/OU=NA/CN=RECIPIENTS/CN=TKUYKEN>\\nX-To: Smith, Matt </O=ENRON/OU=NA/CN=RECIPIENTS/CN=Msmith18>, Storey, Geoff </O=ENRON/OU=NA/CN=RECIPIENTS/CN=Gstorey>\\nX-cc: Holst, Keith </O=ENRON/OU=NA/CN=RECIPIENTS/CN=Kholst>\\nX-bcc: \\nX-Folder: \\\\ExMerge - Storey, Geoff\\\\Netco\\nX-Origin: STOREY-G\\nX-FileName: geoff storey 6-26-02.PST\\n\\nwe would also like to keep all files under g:\\\\west desk\\\\gas reports\\nand matt lenhart needs to keep a file on his h: drive called \\\"matt-pl\\\"\\n\\n -----Original Message-----\\nFrom: \\tSmith, Matt  \\nSent:\\tThursday, December 13, 2001 10:40 AM\\nTo:\\tStorey, Geoff\\nCc:\\tHolst, Keith; Kuykendall, Tori\\nSubject:\\tneeded directories\\n\\nJeff,\\n\\nIf there is no limit to size, we would ideally like to move everything within the following directories:\\n\\no:\\\\ect_trading\\\\West\\nr:\\\\webcontent\\\\GasTrading\\\\west_desk\\n\\nLet me know if we need to narrow these anymore.  They include all west desk files on the network excluding those in the central fundies directories.  Also, will we have a mechanism to transfer individual network directories from the H: drive?  In not, we'll move everyone's directories into one of the above directories.  Thanks.\\n\\nMat\",\n          \"Message-ID: <17695935.1075856541482.JavaMail.evans@thyme>\\nDate: Wed, 1 Nov 2000 09:58:00 -0800 (PST)\\nFrom: vince.kaminski@enron.com\\nTo: shirley.crenshaw@enron.com\\nSubject: RE: Enron Case Study\\nCc: vince.kaminski@enron.com\\nMime-Version: 1.0\\nContent-Type: text/plain; charset=us-ascii\\nContent-Transfer-Encoding: 7bit\\nBcc: vince.kaminski@enron.com\\nX-From: Vince J Kaminski\\nX-To: Shirley Crenshaw\\nX-cc: Vince J Kaminski\\nX-bcc: \\nX-Folder: \\\\Vincent_Kaminski_Jun2001_4\\\\Notes Folders\\\\'sent mail\\nX-Origin: Kaminski-V\\nX-FileName: vkamins.nsf\\n\\nFYI\\n\\nVince \\n\\n---------------------- Forwarded by Vince J Kaminski/HOU/ECT on 11/01/2000 \\n06:05 PM ---------------------------\\nFrom: Cindy Derecskey@ENRON on 10/31/2000 01:44 PM\\nTo: \\\"John Martin\\\" <J_Martin@baylor.edu>\\ncc: Vince J Kaminski/HOU/ECT@ECT, Christie Patrick/HOU/ECT@ECT \\nSubject: RE: Enron Case Study  \\n\\nGood afternoon John,\\n\\nI hope things are well with you.  I am writing to update you on the status of \\nyour meetings with Andy Fastow, Ken Lay and Jeff Skilling.  I have arranged \\nthe following meeting dates and times with Ken Lay and Jeff Skilling, (I am \\nstill trying to work with Andy Fastow's schedule):\\n\\nJeff Skilling\\nDecember 4th  \\n2:00 - 3:00 p.m.\\n\\nKen Lay\\nDecember 4th\\n3:30 - 4:30 p.m.\\n\\nAlso, I will attempt to schedule the meeting with Andy Fastow for December \\n4th for convenience - this will also allow us to possibly schedule additional \\nmeetings for the 5th (as needed).  I will let you know as soon as I'm \\nsuccessful.\\n\\nRegards,\\n\\nCindy Derecskey\\nUniversity Affairs\\nEnron Corp.\\n\\n\\n\\n\"\n        ],\n        \"semantic_type\": \"\",\n        \"description\": \"\"\n      }\n    }\n  ]\n}"
            }
          },
          "metadata": {},
          "execution_count": 10
        }
      ]
    },
    {
      "cell_type": "code",
      "source": [
        "# Email Text\n",
        "data['message'].head(2)"
      ],
      "metadata": {
        "colab": {
          "base_uri": "https://localhost:8080/",
          "height": 147
        },
        "id": "-23oYS-PdWl5",
        "outputId": "4b90b8c8-aa3f-4afb-d003-fb15d2d55229"
      },
      "execution_count": null,
      "outputs": [
        {
          "output_type": "execute_result",
          "data": {
            "text/plain": [
              "0    Message-ID: <21013688.1075844564560.JavaMail.e...\n",
              "1    Message-ID: <22688499.1075854130303.JavaMail.e...\n",
              "Name: message, dtype: object"
            ],
            "text/html": [
              "<div>\n",
              "<style scoped>\n",
              "    .dataframe tbody tr th:only-of-type {\n",
              "        vertical-align: middle;\n",
              "    }\n",
              "\n",
              "    .dataframe tbody tr th {\n",
              "        vertical-align: top;\n",
              "    }\n",
              "\n",
              "    .dataframe thead th {\n",
              "        text-align: right;\n",
              "    }\n",
              "</style>\n",
              "<table border=\"1\" class=\"dataframe\">\n",
              "  <thead>\n",
              "    <tr style=\"text-align: right;\">\n",
              "      <th></th>\n",
              "      <th>message</th>\n",
              "    </tr>\n",
              "  </thead>\n",
              "  <tbody>\n",
              "    <tr>\n",
              "      <th>0</th>\n",
              "      <td>Message-ID: &lt;21013688.1075844564560.JavaMail.e...</td>\n",
              "    </tr>\n",
              "    <tr>\n",
              "      <th>1</th>\n",
              "      <td>Message-ID: &lt;22688499.1075854130303.JavaMail.e...</td>\n",
              "    </tr>\n",
              "  </tbody>\n",
              "</table>\n",
              "</div><br><label><b>dtype:</b> object</label>"
            ]
          },
          "metadata": {},
          "execution_count": 12
        }
      ]
    },
    {
      "cell_type": "code",
      "source": [
        "# Example Email\n",
        "print(data['message'].iloc[0][:550])"
      ],
      "metadata": {
        "colab": {
          "base_uri": "https://localhost:8080/"
        },
        "id": "Rrr1tFaTddvo",
        "outputId": "f01afc49-ccb2-42d9-802c-808f28543966"
      },
      "execution_count": null,
      "outputs": [
        {
          "output_type": "stream",
          "name": "stdout",
          "text": [
            "Message-ID: <21013688.1075844564560.JavaMail.evans@thyme>\n",
            "Date: Tue, 29 Aug 2000 01:26:00 -0700 (PDT)\n",
            "From: sara.shackleton@enron.com\n",
            "To: william.bradford@enron.com\n",
            "Subject: Re: Credit Derivatives\n",
            "Mime-Version: 1.0\n",
            "Content-Type: text/plain; charset=us-ascii\n",
            "Content-Transfer-Encoding: 7bit\n",
            "X-From: Sara Shackleton\n",
            "X-To: William S Bradford\n",
            "X-cc: \n",
            "X-bcc: \n",
            "X-Folder: \\Sara_Shackleton_Dec2000_June2001_1\\Notes Folders\\Sent\n",
            "X-Origin: SHACKLETON-S\n",
            "X-FileName: sshackle.nsf\n",
            "\n",
            "Bill:  Thanks for the info.   I also spoke with Jeff about how \n",
            "EnronCredit.com Lt\n"
          ]
        }
      ]
    },
    {
      "cell_type": "code",
      "source": [],
      "metadata": {
        "id": "dZx_MJbwddx3"
      },
      "execution_count": null,
      "outputs": []
    },
    {
      "cell_type": "code",
      "source": [
        "# TODO: Load and Fine tune mdoel"
      ],
      "metadata": {
        "id": "CXWiJqq-ckIp"
      },
      "execution_count": null,
      "outputs": []
    },
    {
      "cell_type": "code",
      "source": [
        "# TODO: Test mdoel"
      ],
      "metadata": {
        "id": "zeqdi5w5ckLF"
      },
      "execution_count": null,
      "outputs": []
    },
    {
      "cell_type": "code",
      "source": [
        "# TODO: Plot results"
      ],
      "metadata": {
        "id": "s8mcn3mGckOM"
      },
      "execution_count": null,
      "outputs": []
    },
    {
      "cell_type": "code",
      "source": [
        "# TODO: Comment on Observations"
      ],
      "metadata": {
        "id": "HbyOtBYuc_RM"
      },
      "execution_count": null,
      "outputs": []
    },
    {
      "cell_type": "code",
      "source": [],
      "metadata": {
        "id": "MyGmvjjYdAJI"
      },
      "execution_count": null,
      "outputs": []
    },
    {
      "cell_type": "markdown",
      "source": [
        "# Problem 3"
      ],
      "metadata": {
        "id": "CBozhJ0Qcnan"
      }
    },
    {
      "cell_type": "code",
      "source": [],
      "metadata": {
        "id": "__kA7GYzckQp"
      },
      "execution_count": null,
      "outputs": []
    },
    {
      "cell_type": "code",
      "source": [],
      "metadata": {
        "id": "XA9CUNcWcoS3"
      },
      "execution_count": null,
      "outputs": []
    },
    {
      "cell_type": "code",
      "source": [],
      "metadata": {
        "id": "2b_o_aR9coU7"
      },
      "execution_count": null,
      "outputs": []
    },
    {
      "cell_type": "code",
      "source": [],
      "metadata": {
        "id": "tULhwBKMcoXi"
      },
      "execution_count": null,
      "outputs": []
    },
    {
      "cell_type": "code",
      "source": [],
      "metadata": {
        "id": "UlIH0MeccoaZ"
      },
      "execution_count": null,
      "outputs": []
    }
  ]
}